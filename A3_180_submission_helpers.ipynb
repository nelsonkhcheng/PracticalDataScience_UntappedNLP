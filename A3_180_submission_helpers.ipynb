{
 "cells": [
  {
   "cell_type": "code",
   "execution_count": 6,
   "metadata": {},
   "outputs": [],
   "source": [
    "from utilities import data_basic_utility as databasic \n",
    "import os\n",
    "\n",
    "import pandas as pd"
   ]
  },
  {
   "cell_type": "code",
   "execution_count": 7,
   "metadata": {},
   "outputs": [],
   "source": [
    "subrunDir = \"subruns/\""
   ]
  },
  {
   "cell_type": "code",
   "execution_count": 8,
   "metadata": {},
   "outputs": [],
   "source": [
    "def prepare_env():\n",
    "  databasic.ensureFolderPath(\"subruns/\")\n",
    "  databasic.ensureFolderPath(\"models/\")"
   ]
  },
  {
   "cell_type": "code",
   "execution_count": 9,
   "metadata": {},
   "outputs": [],
   "source": [
    "def convertSubrunToRun(subrunDir, subrunFile, targetFileName):\n",
    "  # Load a Subrun CSV file from the subrun directory and rewrite it out to the root directory as the flagged run file\n",
    "  dfRun = pd.read_csv(subrunDir + subrunFile)\n",
    "  dfRun[[\"RowID\", \"Predict\"]].to_csv(targetFileName, sep=\"\\t\", index=False, header=False)\n",
    "  del dfRun"
   ]
  },
  {
   "cell_type": "code",
   "execution_count": 11,
   "metadata": {},
   "outputs": [],
   "source": [
    "\n",
    "subrun2File = \"A3_152_ensemble_v4_complete_run_knnwithmeans_test_subrun.csv\"\n",
    "subrun3File = \"A3_152_ensemble_v4_complete_run_lgbm_allcols_test_subrun.csv\"\n",
    "subrun4File = \"A3_152_ensemble_v4_complete_run_lgbm_allcols_inc_nlp_test_subrun.csv\"\n",
    "subrun5File = \"A3_152_ensemble_v4_complete_run_svdpp_test_subrun.csv\"\n",
    "\n",
    "convertSubrunToRun(subrunDir, subrun2File, \"A3-2.tsv\")\n",
    "convertSubrunToRun(subrunDir, subrun3File, \"A3-3.tsv\")\n",
    "convertSubrunToRun(subrunDir, subrun4File, \"A3-4.tsv\")\n",
    "convertSubrunToRun(subrunDir, subrun5File, \"A3-5.tsv\")"
   ]
  }
 ],
 "metadata": {
  "interpreter": {
   "hash": "a1c06c75df55f9518a2e4db6ce3b8ca21fb7e457d427684d07afebc061061d6a"
  },
  "kernelspec": {
   "display_name": "Python 3.9.5 64-bit",
   "name": "python3"
  },
  "language_info": {
   "codemirror_mode": {
    "name": "ipython",
    "version": 3
   },
   "file_extension": ".py",
   "mimetype": "text/x-python",
   "name": "python",
   "nbconvert_exporter": "python",
   "pygments_lexer": "ipython3",
   "version": "3.9.5"
  },
  "orig_nbformat": 4
 },
 "nbformat": 4,
 "nbformat_minor": 2
}
