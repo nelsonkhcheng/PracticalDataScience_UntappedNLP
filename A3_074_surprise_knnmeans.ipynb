{
 "cells": [
  {
   "cell_type": "code",
   "execution_count": null,
   "metadata": {},
   "outputs": [
    {
     "ename": "Error",
     "evalue": "Session cannot generate requests",
     "output_type": "error",
     "traceback": [
      "Error: Session cannot generate requests",
      "at w.executeCodeCell (c:\\Users\\nelso\\.vscode\\extensions\\ms-toolsai.jupyter-2021.9.1101343141\\out\\client\\extension.js:52:301180)",
      "at w.execute (c:\\Users\\nelso\\.vscode\\extensions\\ms-toolsai.jupyter-2021.9.1101343141\\out\\client\\extension.js:52:300551)",
      "at w.start (c:\\Users\\nelso\\.vscode\\extensions\\ms-toolsai.jupyter-2021.9.1101343141\\out\\client\\extension.js:52:296215)",
      "at runMicrotasks (<anonymous>)",
      "at processTicksAndRejections (internal/process/task_queues.js:93:5)",
      "at async t.CellExecutionQueue.executeQueuedCells (c:\\Users\\nelso\\.vscode\\extensions\\ms-toolsai.jupyter-2021.9.1101343141\\out\\client\\extension.js:52:310950)",
      "at async t.CellExecutionQueue.start (c:\\Users\\nelso\\.vscode\\extensions\\ms-toolsai.jupyter-2021.9.1101343141\\out\\client\\extension.js:52:310490)"
     ]
    }
   ],
   "source": [
    "# Import libraries\n",
    "import pandas as pd\n",
    "import numpy as np\n",
    "\n",
    "from surprise import Dataset\n",
    "from surprise import Reader\n",
    "from surprise import KNNWithMeans\n",
    "from surprise import accuracy\n",
    "from surprise import dump\n",
    "from surprise.model_selection import cross_validate\n",
    "from surprise.model_selection import PredefinedKFold\n",
    "from surprise.model_selection import train_test_split\n",
    "\n",
    "from utilities import data_basic_utility as databasic"
   ]
  },
  {
   "cell_type": "markdown",
   "metadata": {},
   "source": [
    "## File Details\n",
    "\n",
    "Basic run with SVD without cross validation. This can be the basis for parameter tuning and other stuff later\n"
   ]
  },
  {
   "cell_type": "markdown",
   "metadata": {},
   "source": [
    "# Assignment 3 -- Recommendation Systems\n",
    "\n",
    "* The final challenge is much like Assignment 2 -- but scoped appropriately for the time and your current abilities.\n",
    "* It is ratings prediction, just like the movielens recommendations we have seen and many other similar problems.\n",
    "* The features created are based on Beer Reviews from experts on a website.\n",
    "* Each beer has been scored between 0 and 5 (on a real scale, so 2.75 or 3.5 is OK).\n",
    "* The official measure is Mean Average Error (MAE) which is pretty intuitive to work with. Everything supports is and it is easy to interpret.\n",
    "* A set of features have been created based on the reviewer, the written review, and information about the Beer being reviewed.\n",
    "* Not all features have to be used, and you can easily create new features using the data if you like.\n",
    "* The features included are:\n",
    "\n",
    "![title](Images/A3Features.png)\n",
    "\n",
    "* Sizes of the files are:\n",
    "|Size | File|\n",
    "|---|---|\n",
    "| 1.9G | features.tsv |\n",
    "| 88B  | header-features.tsv|\n",
    "| 48B  | header.tsv |\n",
    "| 15M  | test.tsv |\n",
    "| 50M  | train.tsv |\n",
    "| 16M |  val.tsv |\n"
   ]
  },
  {
   "cell_type": "code",
   "execution_count": null,
   "metadata": {},
   "outputs": [],
   "source": [
    "filePrefix = \"A3_074_surprise_knnmeans\"\n",
    "baseDataDir = \"C:/Development/Data/COSC2670/Assignment3/A3data/\"\n",
    "subrunDir = \"subruns/\"\n",
    "modelsDir = \"models/\"\n",
    "writeSubRunFile = True\n",
    "seed = databasic.get_random_seed()"
   ]
  },
  {
   "cell_type": "code",
   "execution_count": null,
   "metadata": {},
   "outputs": [
    {
     "data": {
      "text/html": [
       "<div>\n",
       "<style scoped>\n",
       "    .dataframe tbody tr th:only-of-type {\n",
       "        vertical-align: middle;\n",
       "    }\n",
       "\n",
       "    .dataframe tbody tr th {\n",
       "        vertical-align: top;\n",
       "    }\n",
       "\n",
       "    .dataframe thead th {\n",
       "        text-align: right;\n",
       "    }\n",
       "</style>\n",
       "<table border=\"1\" class=\"dataframe\">\n",
       "  <thead>\n",
       "    <tr style=\"text-align: right;\">\n",
       "      <th></th>\n",
       "      <th>RowID</th>\n",
       "      <th>BeerID</th>\n",
       "      <th>ReviewerID</th>\n",
       "      <th>BeerName</th>\n",
       "      <th>BeerType</th>\n",
       "      <th>rating</th>\n",
       "    </tr>\n",
       "  </thead>\n",
       "  <tbody>\n",
       "    <tr>\n",
       "      <th>0</th>\n",
       "      <td>22</td>\n",
       "      <td>12300</td>\n",
       "      <td>2634</td>\n",
       "      <td>Rauch �r Bock</td>\n",
       "      <td>Rauchbier</td>\n",
       "      <td>4.0</td>\n",
       "    </tr>\n",
       "    <tr>\n",
       "      <th>1</th>\n",
       "      <td>27</td>\n",
       "      <td>12300</td>\n",
       "      <td>5634</td>\n",
       "      <td>Rauch �r Bock</td>\n",
       "      <td>Rauchbier</td>\n",
       "      <td>4.5</td>\n",
       "    </tr>\n",
       "    <tr>\n",
       "      <th>2</th>\n",
       "      <td>28</td>\n",
       "      <td>12300</td>\n",
       "      <td>3544</td>\n",
       "      <td>Rauch �r Bock</td>\n",
       "      <td>Rauchbier</td>\n",
       "      <td>4.5</td>\n",
       "    </tr>\n",
       "    <tr>\n",
       "      <th>3</th>\n",
       "      <td>40</td>\n",
       "      <td>12300</td>\n",
       "      <td>6521</td>\n",
       "      <td>Rauch �r Bock</td>\n",
       "      <td>Rauchbier</td>\n",
       "      <td>4.0</td>\n",
       "    </tr>\n",
       "    <tr>\n",
       "      <th>4</th>\n",
       "      <td>43</td>\n",
       "      <td>12300</td>\n",
       "      <td>10177</td>\n",
       "      <td>Rauch �r Bock</td>\n",
       "      <td>Rauchbier</td>\n",
       "      <td>4.5</td>\n",
       "    </tr>\n",
       "    <tr>\n",
       "      <th>5</th>\n",
       "      <td>48</td>\n",
       "      <td>12300</td>\n",
       "      <td>2907</td>\n",
       "      <td>Rauch �r Bock</td>\n",
       "      <td>Rauchbier</td>\n",
       "      <td>3.5</td>\n",
       "    </tr>\n",
       "    <tr>\n",
       "      <th>6</th>\n",
       "      <td>49</td>\n",
       "      <td>12300</td>\n",
       "      <td>1532</td>\n",
       "      <td>Rauch �r Bock</td>\n",
       "      <td>Rauchbier</td>\n",
       "      <td>4.0</td>\n",
       "    </tr>\n",
       "    <tr>\n",
       "      <th>7</th>\n",
       "      <td>50</td>\n",
       "      <td>12300</td>\n",
       "      <td>3452</td>\n",
       "      <td>Rauch �r Bock</td>\n",
       "      <td>Rauchbier</td>\n",
       "      <td>3.5</td>\n",
       "    </tr>\n",
       "    <tr>\n",
       "      <th>8</th>\n",
       "      <td>59</td>\n",
       "      <td>12300</td>\n",
       "      <td>6861</td>\n",
       "      <td>Rauch �r Bock</td>\n",
       "      <td>Rauchbier</td>\n",
       "      <td>4.0</td>\n",
       "    </tr>\n",
       "    <tr>\n",
       "      <th>9</th>\n",
       "      <td>64</td>\n",
       "      <td>6699</td>\n",
       "      <td>6401</td>\n",
       "      <td>Caldera Pale Ale</td>\n",
       "      <td>American Pale Ale (APA)</td>\n",
       "      <td>4.5</td>\n",
       "    </tr>\n",
       "  </tbody>\n",
       "</table>\n",
       "</div>"
      ],
      "text/plain": [
       "   RowID  BeerID  ReviewerID          BeerName                 BeerType  \\\n",
       "0     22   12300        2634     Rauch �r Bock                Rauchbier   \n",
       "1     27   12300        5634     Rauch �r Bock                Rauchbier   \n",
       "2     28   12300        3544     Rauch �r Bock                Rauchbier   \n",
       "3     40   12300        6521     Rauch �r Bock                Rauchbier   \n",
       "4     43   12300       10177     Rauch �r Bock                Rauchbier   \n",
       "5     48   12300        2907     Rauch �r Bock                Rauchbier   \n",
       "6     49   12300        1532     Rauch �r Bock                Rauchbier   \n",
       "7     50   12300        3452     Rauch �r Bock                Rauchbier   \n",
       "8     59   12300        6861     Rauch �r Bock                Rauchbier   \n",
       "9     64    6699        6401  Caldera Pale Ale  American Pale Ale (APA)   \n",
       "\n",
       "   rating  \n",
       "0     4.0  \n",
       "1     4.5  \n",
       "2     4.5  \n",
       "3     4.0  \n",
       "4     4.5  \n",
       "5     3.5  \n",
       "6     4.0  \n",
       "7     3.5  \n",
       "8     4.0  \n",
       "9     4.5  "
      ]
     },
     "execution_count": 45,
     "metadata": {},
     "output_type": "execute_result"
    }
   ],
   "source": [
    "# RowID  BeerID  ReviewerID  BeerName  BeerType  Label\n",
    "#df_train = pd.read_csv(baseDataDir + 'train_wk12.tsv',sep='\\t',\n",
    "df_train = pd.read_csv(baseDataDir + 'train_200k.tsv',sep='\\t',\n",
    "                         names=['RowID','BeerID','ReviewerID',\n",
    "                                  'BeerName','BeerType','rating'])\n",
    "df_train.head(10)\n",
    "\n",
    "#df_vali = pd.read_csv(baseDataDir + 'val_wk12.tsv',sep='\\t',\n",
    "df_vali = pd.read_csv(baseDataDir + 'vali_200k.tsv',sep='\\t',\n",
    "                         names=['RowID','BeerID','ReviewerID',\n",
    "                                  'BeerName','BeerType','rating'])\n",
    "df_vali.head(10)\n"
   ]
  },
  {
   "cell_type": "markdown",
   "metadata": {},
   "source": [
    "Column List: \n",
    "RowID BrewerID ABV DayofWeek Month DayofMonth Year TimeOfDay Gender Birthday Text Lemmatized POS_Tag\n",
    "\n",
    "Collab Filtering with Surprise, doesn't use the features at all"
   ]
  },
  {
   "cell_type": "code",
   "execution_count": null,
   "metadata": {},
   "outputs": [],
   "source": [
    "# df_features = pd.read_csv(baseDataDir + 'features-top500.tsv',sep='\\t', names=['RowID','BrewerID','ABV','DayofWeek','Month',\n",
    "# df_features = pd.read_csv(baseDataDir + 'features_200k.tsv',sep='\\t', names=['RowID','BrewerID','ABV','DayofWeek','Month',\n",
    "#                                                                  'DayofMonth','Year','TimeOfDay','Gender',\n",
    "#                                                                  'Birthday','Text','Lemmatized','POS_Tag'])\n",
    "\n",
    "# df_features.head(10)"
   ]
  },
  {
   "cell_type": "code",
   "execution_count": null,
   "metadata": {},
   "outputs": [
    {
     "data": {
      "text/html": [
       "<div>\n",
       "<style scoped>\n",
       "    .dataframe tbody tr th:only-of-type {\n",
       "        vertical-align: middle;\n",
       "    }\n",
       "\n",
       "    .dataframe tbody tr th {\n",
       "        vertical-align: top;\n",
       "    }\n",
       "\n",
       "    .dataframe thead th {\n",
       "        text-align: right;\n",
       "    }\n",
       "</style>\n",
       "<table border=\"1\" class=\"dataframe\">\n",
       "  <thead>\n",
       "    <tr style=\"text-align: right;\">\n",
       "      <th></th>\n",
       "      <th>BeerID</th>\n",
       "      <th>ReviewerID</th>\n",
       "      <th>rating</th>\n",
       "    </tr>\n",
       "  </thead>\n",
       "  <tbody>\n",
       "    <tr>\n",
       "      <th>0</th>\n",
       "      <td>12300</td>\n",
       "      <td>10635</td>\n",
       "      <td>4.0</td>\n",
       "    </tr>\n",
       "    <tr>\n",
       "      <th>1</th>\n",
       "      <td>12300</td>\n",
       "      <td>6547</td>\n",
       "      <td>4.5</td>\n",
       "    </tr>\n",
       "    <tr>\n",
       "      <th>2</th>\n",
       "      <td>12300</td>\n",
       "      <td>9789</td>\n",
       "      <td>4.5</td>\n",
       "    </tr>\n",
       "    <tr>\n",
       "      <th>3</th>\n",
       "      <td>12300</td>\n",
       "      <td>7372</td>\n",
       "      <td>5.0</td>\n",
       "    </tr>\n",
       "    <tr>\n",
       "      <th>4</th>\n",
       "      <td>12300</td>\n",
       "      <td>1302</td>\n",
       "      <td>4.5</td>\n",
       "    </tr>\n",
       "  </tbody>\n",
       "</table>\n",
       "</div>"
      ],
      "text/plain": [
       "   BeerID  ReviewerID  rating\n",
       "0   12300       10635     4.0\n",
       "1   12300        6547     4.5\n",
       "2   12300        9789     4.5\n",
       "3   12300        7372     5.0\n",
       "4   12300        1302     4.5"
      ]
     },
     "execution_count": 47,
     "metadata": {},
     "output_type": "execute_result"
    }
   ],
   "source": [
    "idCols = ['RowID','BeerID','ReviewerID']\n",
    "\n",
    "# Setup the data to be just the Reviewer and the Beer(Item) and the Rating Label we want to learn.\n",
    "dfTrainFeatures = df_train.drop(['RowID','BeerName','BeerType'],axis=1)\n",
    "dfValiIds = df_vali[idCols]\n",
    "dfValiFeatures = df_vali.drop(['RowID','BeerName','BeerType'],axis=1)\n",
    "\n",
    "dfTrainFeatures.head()"
   ]
  },
  {
   "cell_type": "code",
   "execution_count": null,
   "metadata": {},
   "outputs": [
    {
     "name": "stdout",
     "output_type": "stream",
     "text": [
      "<class 'surprise.dataset.DatasetAutoFolds'>\n",
      "<class 'surprise.trainset.Trainset'>\n"
     ]
    },
    {
     "data": {
      "text/plain": [
       "<surprise.trainset.Trainset at 0x1810aaf5d00>"
      ]
     },
     "execution_count": 48,
     "metadata": {},
     "output_type": "execute_result"
    }
   ],
   "source": [
    "\n",
    "reader = Reader(rating_scale=(0, 5))\n",
    "dsetTrainFeatures = Dataset.load_from_df(dfTrainFeatures[['BeerID','ReviewerID',\n",
    "                                    'rating']],reader)\n",
    "\n",
    "dsetValiFeatures = Dataset.load_from_df(dfValiFeatures[['BeerID','ReviewerID',\n",
    "                                     'rating']],reader)\n",
    "trainsetTrainFeatures = dsetTrainFeatures.build_full_trainset()\n",
    "\n",
    "print(type(dsetTrainFeatures))\n",
    "print(type(trainsetTrainFeatures))\n",
    "trainsetTrainFeatures"
   ]
  },
  {
   "cell_type": "code",
   "execution_count": null,
   "metadata": {},
   "outputs": [
    {
     "name": "stdout",
     "output_type": "stream",
     "text": [
      "Computing the msd similarity matrix...\n",
      "Done computing similarity matrix.\n",
      "MAE:  0.4377\n",
      "Average MAE: 0.4377105335852574\n"
     ]
    }
   ],
   "source": [
    "\n",
    "NA,valset = train_test_split(dsetValiFeatures, test_size=1.0)\n",
    "\n",
    "# Medium Tuning best params: {'k': 60, 'min_k': 2, 'sim_options': {'name': 'msd', 'min_support': 1, 'user_based': False}}\n",
    "\n",
    "# algorithm = KNNWithMeans()\n",
    "algorithm = KNNWithMeans(k=80)\n",
    "# algorithm = KNNWithMeans(k=60, min_k = 2, sim_options= {'name': 'msd', 'min_support': 1, 'user_based': False})\n",
    "\n",
    "model = algorithm.fit(trainsetTrainFeatures)\n",
    "\n",
    "# Save the predictor model to file\n",
    "dump.dump(modelsDir + filePrefix + \"_predictor.model\", None, model, True)\n",
    "\n",
    "predictions = algorithm.test(valset)\n",
    "\n",
    "\n",
    "# Score our predictions with MAE\n",
    "# It is around 0.77, which means the a random guess based on the distribution of the data\n",
    "# is on average within 0.77 (plus or minus) the true label.\n",
    "# Not bad! You can beat it though, I'm sure :).\n",
    "# Smaller MAE is the better. Good luck!\n",
    "mae = accuracy.mae(predictions,verbose=True)\n",
    "\n",
    "print(\"Average MAE: \" + str(mae))"
   ]
  },
  {
   "cell_type": "code",
   "execution_count": null,
   "metadata": {},
   "outputs": [
    {
     "name": "stdout",
     "output_type": "stream",
     "text": [
      "<class 'list'>\n",
      "[(6056, 171, 4.0), (1103, 6197, 4.5), (10439, 3553, 2.5), (10277, 8711, 4.0), (10770, 8623, 3.5), (1324, 4886, 3.5), (11290, 4833, 2.0), (6695, 6740, 4.0), (117, 8033, 3.5), (1198, 9601, 4.0)]\n"
     ]
    }
   ],
   "source": [
    "print(type(valset))\n",
    "print(valset[0:10])\n"
   ]
  },
  {
   "cell_type": "code",
   "execution_count": null,
   "metadata": {},
   "outputs": [
    {
     "name": "stdout",
     "output_type": "stream",
     "text": [
      "<class 'list'>\n",
      "39509\n",
      "[Prediction(uid=6056, iid=171, r_ui=4.0, est=4.263987337640556, details={'actual_k': 56, 'was_impossible': False}), Prediction(uid=1103, iid=6197, r_ui=4.5, est=4.0808078536104535, details={'actual_k': 72, 'was_impossible': False}), Prediction(uid=10439, iid=3553, r_ui=2.5, est=3.8194091413381788, details={'actual_k': 60, 'was_impossible': False}), Prediction(uid=10277, iid=8711, r_ui=4.0, est=3.8990941892225, details={'actual_k': 62, 'was_impossible': False}), Prediction(uid=10770, iid=8623, r_ui=3.5, est=3.977155282528007, details={'actual_k': 8, 'was_impossible': False}), Prediction(uid=1324, iid=4886, r_ui=3.5, est=3.3670585815347582, details={'actual_k': 21, 'was_impossible': False}), Prediction(uid=11290, iid=4833, r_ui=2.0, est=3.2285115123834776, details={'actual_k': 55, 'was_impossible': False}), Prediction(uid=6695, iid=6740, r_ui=4.0, est=3.8523285787442756, details={'actual_k': 47, 'was_impossible': False}), Prediction(uid=117, iid=8033, r_ui=3.5, est=3.8241317537105024, details={'actual_k': 33, 'was_impossible': False}), Prediction(uid=1198, iid=9601, r_ui=4.0, est=4.148323959272255, details={'actual_k': 62, 'was_impossible': False})]\n",
      "user: 6056       item: 171        r_ui = 4.00   est = 4.26   {'actual_k': 56, 'was_impossible': False}\n"
     ]
    }
   ],
   "source": [
    "print(type(predictions))\n",
    "print(str(len(predictions)))\n",
    "print(predictions[0:10])\n",
    "print(predictions[0])"
   ]
  },
  {
   "cell_type": "code",
   "execution_count": null,
   "metadata": {},
   "outputs": [
    {
     "data": {
      "text/html": [
       "<div>\n",
       "<style scoped>\n",
       "    .dataframe tbody tr th:only-of-type {\n",
       "        vertical-align: middle;\n",
       "    }\n",
       "\n",
       "    .dataframe tbody tr th {\n",
       "        vertical-align: top;\n",
       "    }\n",
       "\n",
       "    .dataframe thead th {\n",
       "        text-align: right;\n",
       "    }\n",
       "</style>\n",
       "<table border=\"1\" class=\"dataframe\">\n",
       "  <thead>\n",
       "    <tr style=\"text-align: right;\">\n",
       "      <th></th>\n",
       "      <th>uid</th>\n",
       "      <th>iid</th>\n",
       "      <th>r_ui</th>\n",
       "      <th>Predict</th>\n",
       "    </tr>\n",
       "  </thead>\n",
       "  <tbody>\n",
       "    <tr>\n",
       "      <th>0</th>\n",
       "      <td>6056</td>\n",
       "      <td>171</td>\n",
       "      <td>4.0</td>\n",
       "      <td>4.263987</td>\n",
       "    </tr>\n",
       "    <tr>\n",
       "      <th>1</th>\n",
       "      <td>1103</td>\n",
       "      <td>6197</td>\n",
       "      <td>4.5</td>\n",
       "      <td>4.080808</td>\n",
       "    </tr>\n",
       "    <tr>\n",
       "      <th>2</th>\n",
       "      <td>10439</td>\n",
       "      <td>3553</td>\n",
       "      <td>2.5</td>\n",
       "      <td>3.819409</td>\n",
       "    </tr>\n",
       "    <tr>\n",
       "      <th>3</th>\n",
       "      <td>10277</td>\n",
       "      <td>8711</td>\n",
       "      <td>4.0</td>\n",
       "      <td>3.899094</td>\n",
       "    </tr>\n",
       "    <tr>\n",
       "      <th>4</th>\n",
       "      <td>10770</td>\n",
       "      <td>8623</td>\n",
       "      <td>3.5</td>\n",
       "      <td>3.977155</td>\n",
       "    </tr>\n",
       "  </tbody>\n",
       "</table>\n",
       "</div>"
      ],
      "text/plain": [
       "     uid   iid  r_ui   Predict\n",
       "0   6056   171   4.0  4.263987\n",
       "1   1103  6197   4.5  4.080808\n",
       "2  10439  3553   2.5  3.819409\n",
       "3  10277  8711   4.0  3.899094\n",
       "4  10770  8623   3.5  3.977155"
      ]
     },
     "execution_count": 52,
     "metadata": {},
     "output_type": "execute_result"
    }
   ],
   "source": [
    "# Convert the Predictions to a dataframe so we can lookup predictions easy\n",
    "lstUIds = list(map(lambda x: x.uid, predictions))\n",
    "lstIIds = list(map(lambda x: x.iid, predictions))\n",
    "lstTrueRatings = list(map(lambda x: x.r_ui, predictions))\n",
    "lstRatingEst = list(map(lambda x: x.est, predictions))\n",
    "\n",
    "\n",
    "# uid == BeerId, iid == ReviewerId, r_ui == Original Ration, est = Predicted rating\n",
    "dfPredictions = pd.DataFrame({ \"uid\": lstUIds,\"iid\": lstIIds, \"r_ui\": lstTrueRatings, \"Predict\": lstRatingEst })\n",
    "\n",
    "dfPredictions.head()\n",
    "# dfPredictions[dfPredictions.uid == 3519]"
   ]
  },
  {
   "cell_type": "code",
   "execution_count": null,
   "metadata": {},
   "outputs": [
    {
     "name": "stdout",
     "output_type": "stream",
     "text": [
      "(39509, 3)\n",
      "(39509, 4)\n"
     ]
    }
   ],
   "source": [
    "print(dfValiIds.shape)\n",
    "print(dfPredictions.shape)"
   ]
  },
  {
   "cell_type": "code",
   "execution_count": null,
   "metadata": {},
   "outputs": [
    {
     "data": {
      "text/html": [
       "<div>\n",
       "<style scoped>\n",
       "    .dataframe tbody tr th:only-of-type {\n",
       "        vertical-align: middle;\n",
       "    }\n",
       "\n",
       "    .dataframe tbody tr th {\n",
       "        vertical-align: top;\n",
       "    }\n",
       "\n",
       "    .dataframe thead th {\n",
       "        text-align: right;\n",
       "    }\n",
       "</style>\n",
       "<table border=\"1\" class=\"dataframe\">\n",
       "  <thead>\n",
       "    <tr style=\"text-align: right;\">\n",
       "      <th></th>\n",
       "      <th>RowID</th>\n",
       "      <th>BeerID</th>\n",
       "      <th>ReviewerID</th>\n",
       "      <th>uid</th>\n",
       "      <th>iid</th>\n",
       "      <th>r_ui</th>\n",
       "      <th>Predict</th>\n",
       "    </tr>\n",
       "  </thead>\n",
       "  <tbody>\n",
       "    <tr>\n",
       "      <th>0</th>\n",
       "      <td>22</td>\n",
       "      <td>12300</td>\n",
       "      <td>2634</td>\n",
       "      <td>12300</td>\n",
       "      <td>2634</td>\n",
       "      <td>4.0</td>\n",
       "      <td>4.411133</td>\n",
       "    </tr>\n",
       "    <tr>\n",
       "      <th>1</th>\n",
       "      <td>27</td>\n",
       "      <td>12300</td>\n",
       "      <td>5634</td>\n",
       "      <td>12300</td>\n",
       "      <td>5634</td>\n",
       "      <td>4.5</td>\n",
       "      <td>4.246060</td>\n",
       "    </tr>\n",
       "    <tr>\n",
       "      <th>2</th>\n",
       "      <td>28</td>\n",
       "      <td>12300</td>\n",
       "      <td>3544</td>\n",
       "      <td>12300</td>\n",
       "      <td>3544</td>\n",
       "      <td>4.5</td>\n",
       "      <td>4.432695</td>\n",
       "    </tr>\n",
       "    <tr>\n",
       "      <th>3</th>\n",
       "      <td>40</td>\n",
       "      <td>12300</td>\n",
       "      <td>6521</td>\n",
       "      <td>12300</td>\n",
       "      <td>6521</td>\n",
       "      <td>4.0</td>\n",
       "      <td>4.259541</td>\n",
       "    </tr>\n",
       "    <tr>\n",
       "      <th>4</th>\n",
       "      <td>43</td>\n",
       "      <td>12300</td>\n",
       "      <td>10177</td>\n",
       "      <td>12300</td>\n",
       "      <td>10177</td>\n",
       "      <td>4.5</td>\n",
       "      <td>4.100380</td>\n",
       "    </tr>\n",
       "  </tbody>\n",
       "</table>\n",
       "</div>"
      ],
      "text/plain": [
       "   RowID  BeerID  ReviewerID    uid    iid  r_ui   Predict\n",
       "0     22   12300        2634  12300   2634   4.0  4.411133\n",
       "1     27   12300        5634  12300   5634   4.5  4.246060\n",
       "2     28   12300        3544  12300   3544   4.5  4.432695\n",
       "3     40   12300        6521  12300   6521   4.0  4.259541\n",
       "4     43   12300       10177  12300  10177   4.5  4.100380"
      ]
     },
     "execution_count": 54,
     "metadata": {},
     "output_type": "execute_result"
    }
   ],
   "source": [
    "# join the predictions to the ids, sort by rowid and write to file\n",
    "dfPredictions = pd.merge(dfValiIds, dfPredictions, how=\"inner\", left_on=[\"BeerID\", \"ReviewerID\"], right_on=[\"uid\", \"iid\"])\n",
    "dfPredictions.head()\n"
   ]
  },
  {
   "cell_type": "markdown",
   "metadata": {},
   "source": [
    "This basic normal run doesn't give good MAE, so not worth writing out and considering"
   ]
  },
  {
   "cell_type": "code",
   "execution_count": null,
   "metadata": {},
   "outputs": [
    {
     "name": "stdout",
     "output_type": "stream",
     "text": [
      "Average MAE: 0.4377105335852574\n",
      "analyse_maes.append(0.4377105335852574)\n",
      "(39703, 7)\n"
     ]
    },
    {
     "data": {
      "text/html": [
       "<div>\n",
       "<style scoped>\n",
       "    .dataframe tbody tr th:only-of-type {\n",
       "        vertical-align: middle;\n",
       "    }\n",
       "\n",
       "    .dataframe tbody tr th {\n",
       "        vertical-align: top;\n",
       "    }\n",
       "\n",
       "    .dataframe thead th {\n",
       "        text-align: right;\n",
       "    }\n",
       "</style>\n",
       "<table border=\"1\" class=\"dataframe\">\n",
       "  <thead>\n",
       "    <tr style=\"text-align: right;\">\n",
       "      <th></th>\n",
       "      <th>RowID</th>\n",
       "      <th>BeerID</th>\n",
       "      <th>ReviewerID</th>\n",
       "      <th>uid</th>\n",
       "      <th>iid</th>\n",
       "      <th>r_ui</th>\n",
       "      <th>Predict</th>\n",
       "    </tr>\n",
       "  </thead>\n",
       "  <tbody>\n",
       "    <tr>\n",
       "      <th>0</th>\n",
       "      <td>22</td>\n",
       "      <td>12300</td>\n",
       "      <td>2634</td>\n",
       "      <td>12300</td>\n",
       "      <td>2634</td>\n",
       "      <td>4.0</td>\n",
       "      <td>4.411133</td>\n",
       "    </tr>\n",
       "    <tr>\n",
       "      <th>1</th>\n",
       "      <td>27</td>\n",
       "      <td>12300</td>\n",
       "      <td>5634</td>\n",
       "      <td>12300</td>\n",
       "      <td>5634</td>\n",
       "      <td>4.5</td>\n",
       "      <td>4.246060</td>\n",
       "    </tr>\n",
       "    <tr>\n",
       "      <th>2</th>\n",
       "      <td>28</td>\n",
       "      <td>12300</td>\n",
       "      <td>3544</td>\n",
       "      <td>12300</td>\n",
       "      <td>3544</td>\n",
       "      <td>4.5</td>\n",
       "      <td>4.432695</td>\n",
       "    </tr>\n",
       "    <tr>\n",
       "      <th>3</th>\n",
       "      <td>40</td>\n",
       "      <td>12300</td>\n",
       "      <td>6521</td>\n",
       "      <td>12300</td>\n",
       "      <td>6521</td>\n",
       "      <td>4.0</td>\n",
       "      <td>4.259541</td>\n",
       "    </tr>\n",
       "    <tr>\n",
       "      <th>4</th>\n",
       "      <td>43</td>\n",
       "      <td>12300</td>\n",
       "      <td>10177</td>\n",
       "      <td>12300</td>\n",
       "      <td>10177</td>\n",
       "      <td>4.5</td>\n",
       "      <td>4.100380</td>\n",
       "    </tr>\n",
       "    <tr>\n",
       "      <th>5</th>\n",
       "      <td>48</td>\n",
       "      <td>12300</td>\n",
       "      <td>2907</td>\n",
       "      <td>12300</td>\n",
       "      <td>2907</td>\n",
       "      <td>3.5</td>\n",
       "      <td>4.064850</td>\n",
       "    </tr>\n",
       "    <tr>\n",
       "      <th>6</th>\n",
       "      <td>49</td>\n",
       "      <td>12300</td>\n",
       "      <td>1532</td>\n",
       "      <td>12300</td>\n",
       "      <td>1532</td>\n",
       "      <td>4.0</td>\n",
       "      <td>4.285378</td>\n",
       "    </tr>\n",
       "    <tr>\n",
       "      <th>7</th>\n",
       "      <td>50</td>\n",
       "      <td>12300</td>\n",
       "      <td>3452</td>\n",
       "      <td>12300</td>\n",
       "      <td>3452</td>\n",
       "      <td>3.5</td>\n",
       "      <td>4.123385</td>\n",
       "    </tr>\n",
       "  </tbody>\n",
       "</table>\n",
       "</div>"
      ],
      "text/plain": [
       "   RowID  BeerID  ReviewerID    uid    iid  r_ui   Predict\n",
       "0     22   12300        2634  12300   2634   4.0  4.411133\n",
       "1     27   12300        5634  12300   5634   4.5  4.246060\n",
       "2     28   12300        3544  12300   3544   4.5  4.432695\n",
       "3     40   12300        6521  12300   6521   4.0  4.259541\n",
       "4     43   12300       10177  12300  10177   4.5  4.100380\n",
       "5     48   12300        2907  12300   2907   3.5  4.064850\n",
       "6     49   12300        1532  12300   1532   4.0  4.285378\n",
       "7     50   12300        3452  12300   3452   3.5  4.123385"
      ]
     },
     "execution_count": 55,
     "metadata": {},
     "output_type": "execute_result"
    }
   ],
   "source": [
    "if writeSubRunFile:\n",
    "  dfPredictions.sort_values(\"RowID\")[[\"RowID\", \"BeerID\", \"ReviewerID\", \"Predict\"]].to_csv(subrunDir + filePrefix + \"_subrun.csv\", index=False)\n",
    "\n",
    "print(\"Average MAE: \" + str(mae))\n",
    "print(\"analyse_maes.append(\" + str(mae) + \")\")\n",
    "print(dfPredictions.shape)\n",
    "dfPredictions.sort_values(\"RowID\").head(8)\n"
   ]
  },
  {
   "cell_type": "code",
   "execution_count": null,
   "metadata": {},
   "outputs": [
    {
     "name": "stdout",
     "output_type": "stream",
     "text": [
      "Run - A3_074_surprise_knnmeans\n",
      "Average MAE over all tests: nan\n"
     ]
    },
    {
     "name": "stderr",
     "output_type": "stream",
     "text": [
      "C:\\Users\\nelso\\AppData\\Local\\Programs\\Python\\Python39\\lib\\site-packages\\numpy\\core\\fromnumeric.py:3372: RuntimeWarning: Mean of empty slice.\n",
      "  return _methods._mean(a, axis=axis, dtype=dtype,\n",
      "C:\\Users\\nelso\\AppData\\Local\\Programs\\Python\\Python39\\lib\\site-packages\\numpy\\core\\_methods.py:170: RuntimeWarning: invalid value encountered in double_scalars\n",
      "  ret = ret.dtype.type(ret / rcount)\n"
     ]
    }
   ],
   "source": [
    "\n",
    "print(\"Run - \" + filePrefix)\n",
    "# Log of Results\n",
    "analyse_maes = []\n",
    "\n",
    "print(\"Average MAE over all tests: \" + str(np.mean(analyse_maes)))\n",
    "\n",
    "# Make sure it's predicting floats\n",
    "# dfPredicted[\"Predict\"].drop_duplicates()"
   ]
  },
  {
   "cell_type": "markdown",
   "metadata": {},
   "source": [
    "## Results\n",
    "\n",
    "* Average MAE with simple KNNWithMeans: 0.4378460143896427\n",
    "* MAE with simple tuned best params (k=60): 0.43772849327628577\n",
    "* MAE with simple tuned best params (k=80): 0.4377105335852574\n",
    "* MAE with medium tuned best params: 0.4527693481239263\n",
    "* MAE with full best params: \n",
    "\n"
   ]
  }
 ],
 "metadata": {
  "interpreter": {
   "hash": "a1c06c75df55f9518a2e4db6ce3b8ca21fb7e457d427684d07afebc061061d6a"
  },
  "kernelspec": {
   "display_name": "Python 3.9.5 64-bit",
   "name": "python3"
  },
  "language_info": {
   "codemirror_mode": {
    "name": "ipython",
    "version": 3
   },
   "file_extension": ".py",
   "mimetype": "text/x-python",
   "name": "python",
   "nbconvert_exporter": "python",
   "pygments_lexer": "ipython3",
   "version": "3.9.5"
  },
  "orig_nbformat": 4
 },
 "nbformat": 4,
 "nbformat_minor": 2
}
