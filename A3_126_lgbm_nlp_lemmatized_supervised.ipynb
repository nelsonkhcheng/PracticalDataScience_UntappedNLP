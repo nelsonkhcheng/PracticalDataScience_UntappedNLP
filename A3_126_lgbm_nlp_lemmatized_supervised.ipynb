{
 "cells": [
  {
   "cell_type": "code",
   "execution_count": 41,
   "metadata": {},
   "outputs": [],
   "source": [
    "# Import libraries\n",
    "import pandas as pd\n",
    "import numpy as np\n",
    "import lightgbm as lgb\n",
    "import fasttext as ft\n",
    "\n",
    "from pathlib import Path\n",
    "\n",
    "from sklearn.model_selection import train_test_split\n",
    "from sklearn.metrics import mean_absolute_error\n",
    "\n",
    "from utilities import data_basic_utility as databasic\n",
    "from utilities import dataframe_utility as dfutil\n",
    "from utilities import regex_utility as reutil\n",
    "import features_utility as featutil\n",
    "\n",
    "import nltk"
   ]
  },
  {
   "cell_type": "markdown",
   "metadata": {},
   "source": [
    "## File Details - Light GBM Regression NLP\n",
    "\n",
    "First File on looking at doing NLP on the Beer name and text features. Investigate using fast text, because fast!\n",
    "This file might start off with just the beer name, then we will go from there\n",
    "\n",
    "Characteristics:\n",
    "* Light GBM Regression Algorithm\n",
    "* Start working on NLP on the Beer name text columns\n"
   ]
  },
  {
   "cell_type": "code",
   "execution_count": 42,
   "metadata": {},
   "outputs": [],
   "source": [
    "filePrefix = \"A3_126_lgbm_nlp_beertext_supervised\"\n",
    "baseDataDir = \"C:/Development/Data/COSC2670/Assignment3/A3data/\"\n",
    "subrunDir = \"subruns/\"\n",
    "featuresDataDir = \"features/\"\n",
    "modelsDir = \"models/\"\n",
    "writeSubRunFile = True\n",
    "seed = databasic.get_random_seed()"
   ]
  },
  {
   "cell_type": "code",
   "execution_count": 43,
   "metadata": {},
   "outputs": [],
   "source": [
    "trainFilePath = baseDataDir + 'train.tsv'\n",
    "valiFilePath = baseDataDir + 'val.tsv'\n",
    "featuresFilePath = baseDataDir + 'features.tsv'\n",
    "testFilePath = baseDataDir + 'test.tsv'\n",
    "\n",
    "# trainFilePath = baseDataDir + 'train_200k.tsv'\n",
    "# valiFilePath = baseDataDir + 'vali_200k.tsv'\n",
    "# featuresFilePath = baseDataDir + 'features_200k.tsv'\n",
    "# testFilePath = baseDataDir + 'test_200k.tsv'"
   ]
  },
  {
   "cell_type": "code",
   "execution_count": 44,
   "metadata": {},
   "outputs": [
    {
     "name": "stdout",
     "output_type": "stream",
     "text": [
      "(845008, 6)\n"
     ]
    }
   ],
   "source": [
    "df_train = pd.read_csv(trainFilePath, sep='\\t',\n",
    "                         names=['RowID','BeerID','ReviewerID',\n",
    "                                  'BeerName','BeerType','rating'])\n",
    "\n",
    "df_vali = pd.read_csv(valiFilePath, sep='\\t',\n",
    "                         names=['RowID','BeerID','ReviewerID',\n",
    "                                  'BeerName','BeerType','rating'])\n",
    "\n",
    "\n",
    "df_test = pd.read_csv(testFilePath, sep='\\t',\n",
    "                         names=['RowID','BeerID','ReviewerID',\n",
    "                                  'BeerName','BeerType','rating'])                                \n",
    "\n",
    "print(df_train.shape)"
   ]
  },
  {
   "cell_type": "code",
   "execution_count": 45,
   "metadata": {},
   "outputs": [],
   "source": [
    "# # RowID BrewerID ABV DayofWeek Month DayofMonth Year TimeOfDay Gender Birthday Text Lemmatized POS_Tag\n",
    "# # df_features = pd.read_csv(baseDataDir + 'features_500k.tsv',sep='\\t', names=['RowID','BrewerID','ABV','DayofWeek','Month',\n",
    "df_features = pd.read_csv(featuresFilePath,sep='\\t', names=['RowID','BrewerID','ABV','DayofWeek','Month',\n",
    "                                                                 'DayofMonth','Year','TimeOfDay','Gender',\n",
    "                                                                 'Birthday','Text','Lemmatized','POS_Tag'])\n",
    "\n",
    "df_features.head()\n",
    "\n",
    "colsToUse = [\"Lemmatized\"]\n"
   ]
  },
  {
   "cell_type": "code",
   "execution_count": 46,
   "metadata": {},
   "outputs": [
    {
     "data": {
      "text/html": [
       "<div>\n",
       "<style scoped>\n",
       "    .dataframe tbody tr th:only-of-type {\n",
       "        vertical-align: middle;\n",
       "    }\n",
       "\n",
       "    .dataframe tbody tr th {\n",
       "        vertical-align: top;\n",
       "    }\n",
       "\n",
       "    .dataframe thead th {\n",
       "        text-align: right;\n",
       "    }\n",
       "</style>\n",
       "<table border=\"1\" class=\"dataframe\">\n",
       "  <thead>\n",
       "    <tr style=\"text-align: right;\">\n",
       "      <th></th>\n",
       "      <th>RowID</th>\n",
       "      <th>BeerID</th>\n",
       "      <th>ReviewerID</th>\n",
       "      <th>rating</th>\n",
       "      <th>Lemmatized</th>\n",
       "    </tr>\n",
       "  </thead>\n",
       "  <tbody>\n",
       "    <tr>\n",
       "      <th>0</th>\n",
       "      <td>19</td>\n",
       "      <td>12300</td>\n",
       "      <td>10635</td>\n",
       "      <td>4.0</td>\n",
       "      <td>`` warning , this beer have a intense smoke fl...</td>\n",
       "    </tr>\n",
       "    <tr>\n",
       "      <th>1</th>\n",
       "      <td>21</td>\n",
       "      <td>12300</td>\n",
       "      <td>6547</td>\n",
       "      <td>4.5</td>\n",
       "      <td>Amber brown in color with very little head but...</td>\n",
       "    </tr>\n",
       "    <tr>\n",
       "      <th>2</th>\n",
       "      <td>23</td>\n",
       "      <td>12300</td>\n",
       "      <td>9789</td>\n",
       "      <td>4.5</td>\n",
       "      <td>complex enjoyable smoke . tasty rich malt , ca...</td>\n",
       "    </tr>\n",
       "    <tr>\n",
       "      <th>3</th>\n",
       "      <td>24</td>\n",
       "      <td>12300</td>\n",
       "      <td>7372</td>\n",
       "      <td>5.0</td>\n",
       "      <td>this beer pour a dark amber color , with a per...</td>\n",
       "    </tr>\n",
       "    <tr>\n",
       "      <th>4</th>\n",
       "      <td>25</td>\n",
       "      <td>12300</td>\n",
       "      <td>1302</td>\n",
       "      <td>4.5</td>\n",
       "      <td>pour a rich burn caramel hue with some deep am...</td>\n",
       "    </tr>\n",
       "  </tbody>\n",
       "</table>\n",
       "</div>"
      ],
      "text/plain": [
       "   RowID  BeerID  ReviewerID  rating  \\\n",
       "0     19   12300       10635     4.0   \n",
       "1     21   12300        6547     4.5   \n",
       "2     23   12300        9789     4.5   \n",
       "3     24   12300        7372     5.0   \n",
       "4     25   12300        1302     4.5   \n",
       "\n",
       "                                          Lemmatized  \n",
       "0  `` warning , this beer have a intense smoke fl...  \n",
       "1  Amber brown in color with very little head but...  \n",
       "2  complex enjoyable smoke . tasty rich malt , ca...  \n",
       "3  this beer pour a dark amber color , with a per...  \n",
       "4  pour a rich burn caramel hue with some deep am...  "
      ]
     },
     "execution_count": 46,
     "metadata": {},
     "output_type": "execute_result"
    }
   ],
   "source": [
    "\n",
    "# Find the feature records that match the training and validation data and join them together\n",
    "dfFullData = df_train.join(df_features[colsToUse], on=\"RowID\", how=\"inner\", rsuffix=\"Feat\")\n",
    "dfFullDataVali = df_vali.join(df_features[colsToUse], on=\"RowID\", how=\"inner\", rsuffix=\"Feat\")\n",
    "dfFullDataTest = df_test.join(df_features[colsToUse], on=\"RowID\", how=\"inner\", rsuffix=\"Feat\")\n",
    "\n",
    "dfFullData.head()\n",
    "\n",
    "# Remove the duplicated Row ID, also remove Beer Name at this point, we're nt using it\n",
    "# df_train_data = dfFullData.drop(['RowIDFeat', \"BeerName\"],axis=1)\n",
    "# df_vali_data = dfFullDataVali.drop(['RowIDFeat', \"BeerName\"],axis=1)\n",
    "df_train_data = dfFullData.drop([\"BeerName\", \"BeerType\"],axis=1)\n",
    "df_vali_data = dfFullDataVali.drop([\"BeerName\", \"BeerType\"],axis=1)\n",
    "df_test_data = dfFullDataTest.drop([\"BeerName\", \"BeerType\"],axis=1)\n",
    "\n",
    "df_train_data.head()"
   ]
  },
  {
   "cell_type": "markdown",
   "metadata": {},
   "source": [
    "Let's just look at Beer name first. Compile a full list of the beer names, save it to file with one per line. Then we can load it with fasttext and build a language model"
   ]
  },
  {
   "cell_type": "code",
   "execution_count": 47,
   "metadata": {},
   "outputs": [
    {
     "name": "stdout",
     "output_type": "stream",
     "text": [
      "(243834, 5)\n"
     ]
    }
   ],
   "source": [
    "print(df_vali_data.shape)"
   ]
  },
  {
   "cell_type": "code",
   "execution_count": 48,
   "metadata": {},
   "outputs": [
    {
     "name": "stderr",
     "output_type": "stream",
     "text": [
      "[nltk_data] Downloading package stopwords to\n",
      "[nltk_data]     C:\\Users\\nelso\\AppData\\Roaming\\nltk_data...\n",
      "[nltk_data]   Package stopwords is already up-to-date!\n"
     ]
    },
    {
     "name": "stdout",
     "output_type": "stream",
     "text": [
      "                                     LemmatizedLabel\n",
      "0  __label__4.0 warning beer intense smoke flavor...\n",
      "1  __label__4.5 amber brown color little head nic...\n",
      "2  __label__4.5 complex enjoyable smoke tasty ric...\n",
      "3  __label__5.0 beer pour dark amber color perfec...\n",
      "4  __label__4.5 pour rich burn caramel hue deep a...\n",
      "5  __label__4.5 draught beer stein rauch bock che...\n",
      "6  __label__5.0 22oz bottle pour clear amber tigh...\n",
      "7  __label__4.5 deep cherry body faint beige head...\n",
      "8  __label__4.0 pour 22oz bomber ayinger celebrat...\n",
      "9  __label__4.0 share bottle tenderbranson69 pick...\n"
     ]
    }
   ],
   "source": [
    "colName = \"Lemmatized\"\n",
    "df_train_data, df_vali_data, df_test_data, documentFilePath = featutil.formatTextColForNLPSupervised(\n",
    "    df_train_data, df_vali_data, df_test_data, colName, featuresDataDir, filePrefix, 0)"
   ]
  },
  {
   "cell_type": "markdown",
   "metadata": {},
   "source": [
    "Now train a Fast Text language model. Check to see if there is a saved model to use, else train a new one"
   ]
  },
  {
   "cell_type": "code",
   "execution_count": 49,
   "metadata": {},
   "outputs": [
    {
     "name": "stdout",
     "output_type": "stream",
     "text": [
      "(243834, 5)\n"
     ]
    }
   ],
   "source": [
    "print(df_vali_data.shape)"
   ]
  },
  {
   "cell_type": "code",
   "execution_count": 50,
   "metadata": {},
   "outputs": [
    {
     "name": "stdout",
     "output_type": "stream",
     "text": [
      "['</s>', 'beer', 'head', 'hop', 'taste', 'pour', 'malt', 'flavor', 'nice', 'good', 'light', 'like', 'smell', 'sweet', 'aroma', 'one', 'bit', 'bottle', 'finish', 'dark', 'carbonation', 'color', 'glass', 'well', 'little', 'mouthfeel', 'would', 'lacing', 'brown', 'note', 'alcohol', 'really', 'white', 'body', 'much', 'caramel', 'chocolate', 'get', 'medium', 'drink', 'nose', 'great', 'brew', 'fruit', 'hint', 'smooth', 'leave', 'bitterness', 'bitter', 'citrus']\n"
     ]
    }
   ],
   "source": [
    "# pass in an existing model file to use that was generated from another run\n",
    "modelFileToUse = \"\"\n",
    "\n",
    "fasttext_model = featutil.getFastTextLangModelSupervised(colName, modelFileToUse,  modelsDir, filePrefix, documentFilePath, 200, True)\n",
    "\n",
    "print(fasttext_model.words[0:50])\n",
    "\n",
    "# examine some of the word vectors\n",
    "# print(fasttext_model.get_word_vector(\"stout\"))"
   ]
  },
  {
   "cell_type": "code",
   "execution_count": 51,
   "metadata": {},
   "outputs": [
    {
     "data": {
      "text/html": [
       "<div>\n",
       "<style scoped>\n",
       "    .dataframe tbody tr th:only-of-type {\n",
       "        vertical-align: middle;\n",
       "    }\n",
       "\n",
       "    .dataframe tbody tr th {\n",
       "        vertical-align: top;\n",
       "    }\n",
       "\n",
       "    .dataframe thead th {\n",
       "        text-align: right;\n",
       "    }\n",
       "</style>\n",
       "<table border=\"1\" class=\"dataframe\">\n",
       "  <thead>\n",
       "    <tr style=\"text-align: right;\">\n",
       "      <th></th>\n",
       "      <th>RowID</th>\n",
       "      <th>BeerID</th>\n",
       "      <th>ReviewerID</th>\n",
       "      <th>rating</th>\n",
       "      <th>Lemmatized_DocVec_0</th>\n",
       "      <th>Lemmatized_DocVec_1</th>\n",
       "      <th>Lemmatized_DocVec_2</th>\n",
       "      <th>Lemmatized_DocVec_3</th>\n",
       "      <th>Lemmatized_DocVec_4</th>\n",
       "      <th>Lemmatized_DocVec_5</th>\n",
       "      <th>...</th>\n",
       "      <th>Lemmatized_DocVec_190</th>\n",
       "      <th>Lemmatized_DocVec_191</th>\n",
       "      <th>Lemmatized_DocVec_192</th>\n",
       "      <th>Lemmatized_DocVec_193</th>\n",
       "      <th>Lemmatized_DocVec_194</th>\n",
       "      <th>Lemmatized_DocVec_195</th>\n",
       "      <th>Lemmatized_DocVec_196</th>\n",
       "      <th>Lemmatized_DocVec_197</th>\n",
       "      <th>Lemmatized_DocVec_198</th>\n",
       "      <th>Lemmatized_DocVec_199</th>\n",
       "    </tr>\n",
       "  </thead>\n",
       "  <tbody>\n",
       "    <tr>\n",
       "      <th>0</th>\n",
       "      <td>19</td>\n",
       "      <td>12300</td>\n",
       "      <td>10635</td>\n",
       "      <td>4.0</td>\n",
       "      <td>0.027748</td>\n",
       "      <td>0.017034</td>\n",
       "      <td>-0.033596</td>\n",
       "      <td>-0.036577</td>\n",
       "      <td>0.093753</td>\n",
       "      <td>0.011921</td>\n",
       "      <td>...</td>\n",
       "      <td>0.003158</td>\n",
       "      <td>0.019271</td>\n",
       "      <td>0.038356</td>\n",
       "      <td>-0.011493</td>\n",
       "      <td>0.023297</td>\n",
       "      <td>-0.031086</td>\n",
       "      <td>-0.005403</td>\n",
       "      <td>0.013005</td>\n",
       "      <td>-0.033269</td>\n",
       "      <td>-0.026450</td>\n",
       "    </tr>\n",
       "    <tr>\n",
       "      <th>1</th>\n",
       "      <td>21</td>\n",
       "      <td>12300</td>\n",
       "      <td>6547</td>\n",
       "      <td>4.5</td>\n",
       "      <td>-0.009907</td>\n",
       "      <td>0.040332</td>\n",
       "      <td>-0.024713</td>\n",
       "      <td>0.002329</td>\n",
       "      <td>0.063008</td>\n",
       "      <td>0.026923</td>\n",
       "      <td>...</td>\n",
       "      <td>0.013729</td>\n",
       "      <td>0.022427</td>\n",
       "      <td>0.087125</td>\n",
       "      <td>0.004723</td>\n",
       "      <td>0.021917</td>\n",
       "      <td>-0.011530</td>\n",
       "      <td>-0.013467</td>\n",
       "      <td>0.033440</td>\n",
       "      <td>-0.050096</td>\n",
       "      <td>-0.074780</td>\n",
       "    </tr>\n",
       "    <tr>\n",
       "      <th>2</th>\n",
       "      <td>23</td>\n",
       "      <td>12300</td>\n",
       "      <td>9789</td>\n",
       "      <td>4.5</td>\n",
       "      <td>0.026733</td>\n",
       "      <td>0.009134</td>\n",
       "      <td>0.011481</td>\n",
       "      <td>-0.012636</td>\n",
       "      <td>0.034114</td>\n",
       "      <td>0.016022</td>\n",
       "      <td>...</td>\n",
       "      <td>0.026691</td>\n",
       "      <td>0.020610</td>\n",
       "      <td>0.117741</td>\n",
       "      <td>0.013414</td>\n",
       "      <td>0.025082</td>\n",
       "      <td>-0.030421</td>\n",
       "      <td>-0.022731</td>\n",
       "      <td>0.044451</td>\n",
       "      <td>-0.098812</td>\n",
       "      <td>-0.101796</td>\n",
       "    </tr>\n",
       "    <tr>\n",
       "      <th>3</th>\n",
       "      <td>24</td>\n",
       "      <td>12300</td>\n",
       "      <td>7372</td>\n",
       "      <td>5.0</td>\n",
       "      <td>-0.001222</td>\n",
       "      <td>0.045850</td>\n",
       "      <td>-0.030376</td>\n",
       "      <td>-0.008558</td>\n",
       "      <td>0.098255</td>\n",
       "      <td>0.018821</td>\n",
       "      <td>...</td>\n",
       "      <td>0.010711</td>\n",
       "      <td>0.022204</td>\n",
       "      <td>0.093252</td>\n",
       "      <td>0.007135</td>\n",
       "      <td>0.033894</td>\n",
       "      <td>-0.023813</td>\n",
       "      <td>-0.013041</td>\n",
       "      <td>0.041588</td>\n",
       "      <td>-0.087465</td>\n",
       "      <td>-0.087643</td>\n",
       "    </tr>\n",
       "    <tr>\n",
       "      <th>4</th>\n",
       "      <td>25</td>\n",
       "      <td>12300</td>\n",
       "      <td>1302</td>\n",
       "      <td>4.5</td>\n",
       "      <td>-0.004483</td>\n",
       "      <td>0.031152</td>\n",
       "      <td>-0.027568</td>\n",
       "      <td>-0.009516</td>\n",
       "      <td>0.063459</td>\n",
       "      <td>0.014560</td>\n",
       "      <td>...</td>\n",
       "      <td>0.006685</td>\n",
       "      <td>0.014033</td>\n",
       "      <td>0.063868</td>\n",
       "      <td>0.002771</td>\n",
       "      <td>0.029713</td>\n",
       "      <td>-0.022151</td>\n",
       "      <td>-0.021135</td>\n",
       "      <td>0.035744</td>\n",
       "      <td>-0.063698</td>\n",
       "      <td>-0.071717</td>\n",
       "    </tr>\n",
       "  </tbody>\n",
       "</table>\n",
       "<p>5 rows × 204 columns</p>\n",
       "</div>"
      ],
      "text/plain": [
       "   RowID  BeerID  ReviewerID  rating  Lemmatized_DocVec_0  \\\n",
       "0     19   12300       10635     4.0             0.027748   \n",
       "1     21   12300        6547     4.5            -0.009907   \n",
       "2     23   12300        9789     4.5             0.026733   \n",
       "3     24   12300        7372     5.0            -0.001222   \n",
       "4     25   12300        1302     4.5            -0.004483   \n",
       "\n",
       "   Lemmatized_DocVec_1  Lemmatized_DocVec_2  Lemmatized_DocVec_3  \\\n",
       "0             0.017034            -0.033596            -0.036577   \n",
       "1             0.040332            -0.024713             0.002329   \n",
       "2             0.009134             0.011481            -0.012636   \n",
       "3             0.045850            -0.030376            -0.008558   \n",
       "4             0.031152            -0.027568            -0.009516   \n",
       "\n",
       "   Lemmatized_DocVec_4  Lemmatized_DocVec_5  ...  Lemmatized_DocVec_190  \\\n",
       "0             0.093753             0.011921  ...               0.003158   \n",
       "1             0.063008             0.026923  ...               0.013729   \n",
       "2             0.034114             0.016022  ...               0.026691   \n",
       "3             0.098255             0.018821  ...               0.010711   \n",
       "4             0.063459             0.014560  ...               0.006685   \n",
       "\n",
       "   Lemmatized_DocVec_191  Lemmatized_DocVec_192  Lemmatized_DocVec_193  \\\n",
       "0               0.019271               0.038356              -0.011493   \n",
       "1               0.022427               0.087125               0.004723   \n",
       "2               0.020610               0.117741               0.013414   \n",
       "3               0.022204               0.093252               0.007135   \n",
       "4               0.014033               0.063868               0.002771   \n",
       "\n",
       "   Lemmatized_DocVec_194  Lemmatized_DocVec_195  Lemmatized_DocVec_196  \\\n",
       "0               0.023297              -0.031086              -0.005403   \n",
       "1               0.021917              -0.011530              -0.013467   \n",
       "2               0.025082              -0.030421              -0.022731   \n",
       "3               0.033894              -0.023813              -0.013041   \n",
       "4               0.029713              -0.022151              -0.021135   \n",
       "\n",
       "   Lemmatized_DocVec_197  Lemmatized_DocVec_198  Lemmatized_DocVec_199  \n",
       "0               0.013005              -0.033269              -0.026450  \n",
       "1               0.033440              -0.050096              -0.074780  \n",
       "2               0.044451              -0.098812              -0.101796  \n",
       "3               0.041588              -0.087465              -0.087643  \n",
       "4               0.035744              -0.063698              -0.071717  \n",
       "\n",
       "[5 rows x 204 columns]"
      ]
     },
     "execution_count": 51,
     "metadata": {},
     "output_type": "execute_result"
    }
   ],
   "source": [
    "# Create a new dataframe that just the Ids, rating and document vectors, but at columns\n",
    "df_train_data = featutil.convertToDocVectorDataSet(df_train_data, colName, fasttext_model)\n",
    "# df_vali_data = featutil.convertToDocVectorDataSet(df_vali_data, colName, fasttext_model)\n",
    "# df_test_data = featutil.convertToDocVectorDataSet(df_test_data, colName, fasttext_model)\n",
    "\n",
    "df_train_data.head()"
   ]
  },
  {
   "cell_type": "code",
   "execution_count": 52,
   "metadata": {},
   "outputs": [],
   "source": [
    "# # Write test data to file, when we do a complete run. Otherwise, just drop the test data out of memory\n",
    "# del df_test\n",
    "# del df_test_data"
   ]
  },
  {
   "cell_type": "code",
   "execution_count": 53,
   "metadata": {},
   "outputs": [],
   "source": [
    "# Get all the columns\n",
    "col_names = df_train_data.columns\n",
    "\n",
    "idCols = ['RowID','BeerID','ReviewerID']\n",
    "#feature_cols =  col_names.drop(['RowID','BeerID','ReviewerID','rating' ])\n",
    "feature_cols = list(filter(lambda x: x.startswith(\"Lemmatized_\"), col_names))\n",
    "target_col = 'rating'\n",
    "\n",
    "# Create the sub data sets of the features and the target\n",
    "dfTrainIds = df_train_data[idCols]\n",
    "dfTrainFeatures = df_train_data[feature_cols]\n",
    "dfTrainTarget = df_train_data[target_col]\n",
    "\n",
    "dfValiIds = df_vali_data[idCols]\n",
    "# dfValiFeatures = df_vali_data[feature_cols]\n",
    "dfValiTarget = df_vali_data[target_col]\n",
    "\n",
    "\n",
    "\n"
   ]
  },
  {
   "cell_type": "code",
   "execution_count": 54,
   "metadata": {},
   "outputs": [
    {
     "data": {
      "text/html": [
       "<div>\n",
       "<style scoped>\n",
       "    .dataframe tbody tr th:only-of-type {\n",
       "        vertical-align: middle;\n",
       "    }\n",
       "\n",
       "    .dataframe tbody tr th {\n",
       "        vertical-align: top;\n",
       "    }\n",
       "\n",
       "    .dataframe thead th {\n",
       "        text-align: right;\n",
       "    }\n",
       "</style>\n",
       "<table border=\"1\" class=\"dataframe\">\n",
       "  <thead>\n",
       "    <tr style=\"text-align: right;\">\n",
       "      <th></th>\n",
       "      <th>RowID</th>\n",
       "      <th>BeerID</th>\n",
       "      <th>ReviewerID</th>\n",
       "    </tr>\n",
       "  </thead>\n",
       "  <tbody>\n",
       "    <tr>\n",
       "      <th>0</th>\n",
       "      <td>22</td>\n",
       "      <td>12300</td>\n",
       "      <td>2634</td>\n",
       "    </tr>\n",
       "    <tr>\n",
       "      <th>1</th>\n",
       "      <td>27</td>\n",
       "      <td>12300</td>\n",
       "      <td>5634</td>\n",
       "    </tr>\n",
       "    <tr>\n",
       "      <th>2</th>\n",
       "      <td>28</td>\n",
       "      <td>12300</td>\n",
       "      <td>3544</td>\n",
       "    </tr>\n",
       "    <tr>\n",
       "      <th>3</th>\n",
       "      <td>40</td>\n",
       "      <td>12300</td>\n",
       "      <td>6521</td>\n",
       "    </tr>\n",
       "    <tr>\n",
       "      <th>4</th>\n",
       "      <td>43</td>\n",
       "      <td>12300</td>\n",
       "      <td>10177</td>\n",
       "    </tr>\n",
       "  </tbody>\n",
       "</table>\n",
       "</div>"
      ],
      "text/plain": [
       "   RowID  BeerID  ReviewerID\n",
       "0     22   12300        2634\n",
       "1     27   12300        5634\n",
       "2     28   12300        3544\n",
       "3     40   12300        6521\n",
       "4     43   12300       10177"
      ]
     },
     "execution_count": 54,
     "metadata": {},
     "output_type": "execute_result"
    }
   ],
   "source": [
    "\n",
    "lstValiTextCol = df_vali_data[colName].to_list()\n",
    "dfValiIds.head()"
   ]
  },
  {
   "cell_type": "code",
   "execution_count": 55,
   "metadata": {},
   "outputs": [
    {
     "name": "stdout",
     "output_type": "stream",
     "text": [
      "(746207, 200)\n"
     ]
    },
    {
     "data": {
      "text/html": [
       "<div>\n",
       "<style scoped>\n",
       "    .dataframe tbody tr th:only-of-type {\n",
       "        vertical-align: middle;\n",
       "    }\n",
       "\n",
       "    .dataframe tbody tr th {\n",
       "        vertical-align: top;\n",
       "    }\n",
       "\n",
       "    .dataframe thead th {\n",
       "        text-align: right;\n",
       "    }\n",
       "</style>\n",
       "<table border=\"1\" class=\"dataframe\">\n",
       "  <thead>\n",
       "    <tr style=\"text-align: right;\">\n",
       "      <th></th>\n",
       "      <th>Lemmatized_DocVec_0</th>\n",
       "      <th>Lemmatized_DocVec_1</th>\n",
       "      <th>Lemmatized_DocVec_2</th>\n",
       "      <th>Lemmatized_DocVec_3</th>\n",
       "      <th>Lemmatized_DocVec_4</th>\n",
       "      <th>Lemmatized_DocVec_5</th>\n",
       "      <th>Lemmatized_DocVec_6</th>\n",
       "      <th>Lemmatized_DocVec_7</th>\n",
       "      <th>Lemmatized_DocVec_8</th>\n",
       "      <th>Lemmatized_DocVec_9</th>\n",
       "      <th>...</th>\n",
       "      <th>Lemmatized_DocVec_190</th>\n",
       "      <th>Lemmatized_DocVec_191</th>\n",
       "      <th>Lemmatized_DocVec_192</th>\n",
       "      <th>Lemmatized_DocVec_193</th>\n",
       "      <th>Lemmatized_DocVec_194</th>\n",
       "      <th>Lemmatized_DocVec_195</th>\n",
       "      <th>Lemmatized_DocVec_196</th>\n",
       "      <th>Lemmatized_DocVec_197</th>\n",
       "      <th>Lemmatized_DocVec_198</th>\n",
       "      <th>Lemmatized_DocVec_199</th>\n",
       "    </tr>\n",
       "  </thead>\n",
       "  <tbody>\n",
       "    <tr>\n",
       "      <th>0</th>\n",
       "      <td>0.027748</td>\n",
       "      <td>0.017034</td>\n",
       "      <td>-0.033596</td>\n",
       "      <td>-0.036577</td>\n",
       "      <td>0.093753</td>\n",
       "      <td>0.011921</td>\n",
       "      <td>0.009011</td>\n",
       "      <td>-0.032714</td>\n",
       "      <td>0.088039</td>\n",
       "      <td>0.147330</td>\n",
       "      <td>...</td>\n",
       "      <td>0.003158</td>\n",
       "      <td>0.019271</td>\n",
       "      <td>0.038356</td>\n",
       "      <td>-0.011493</td>\n",
       "      <td>0.023297</td>\n",
       "      <td>-0.031086</td>\n",
       "      <td>-0.005403</td>\n",
       "      <td>0.013005</td>\n",
       "      <td>-0.033269</td>\n",
       "      <td>-0.026450</td>\n",
       "    </tr>\n",
       "    <tr>\n",
       "      <th>1</th>\n",
       "      <td>-0.009907</td>\n",
       "      <td>0.040332</td>\n",
       "      <td>-0.024713</td>\n",
       "      <td>0.002329</td>\n",
       "      <td>0.063008</td>\n",
       "      <td>0.026923</td>\n",
       "      <td>0.004440</td>\n",
       "      <td>-0.017439</td>\n",
       "      <td>0.078392</td>\n",
       "      <td>0.088087</td>\n",
       "      <td>...</td>\n",
       "      <td>0.013729</td>\n",
       "      <td>0.022427</td>\n",
       "      <td>0.087125</td>\n",
       "      <td>0.004723</td>\n",
       "      <td>0.021917</td>\n",
       "      <td>-0.011530</td>\n",
       "      <td>-0.013467</td>\n",
       "      <td>0.033440</td>\n",
       "      <td>-0.050096</td>\n",
       "      <td>-0.074780</td>\n",
       "    </tr>\n",
       "    <tr>\n",
       "      <th>2</th>\n",
       "      <td>0.026733</td>\n",
       "      <td>0.009134</td>\n",
       "      <td>0.011481</td>\n",
       "      <td>-0.012636</td>\n",
       "      <td>0.034114</td>\n",
       "      <td>0.016022</td>\n",
       "      <td>-0.011701</td>\n",
       "      <td>-0.026069</td>\n",
       "      <td>0.040446</td>\n",
       "      <td>0.073890</td>\n",
       "      <td>...</td>\n",
       "      <td>0.026691</td>\n",
       "      <td>0.020610</td>\n",
       "      <td>0.117741</td>\n",
       "      <td>0.013414</td>\n",
       "      <td>0.025082</td>\n",
       "      <td>-0.030421</td>\n",
       "      <td>-0.022731</td>\n",
       "      <td>0.044451</td>\n",
       "      <td>-0.098812</td>\n",
       "      <td>-0.101796</td>\n",
       "    </tr>\n",
       "    <tr>\n",
       "      <th>3</th>\n",
       "      <td>-0.001222</td>\n",
       "      <td>0.045850</td>\n",
       "      <td>-0.030376</td>\n",
       "      <td>-0.008558</td>\n",
       "      <td>0.098255</td>\n",
       "      <td>0.018821</td>\n",
       "      <td>0.020067</td>\n",
       "      <td>-0.038238</td>\n",
       "      <td>0.088649</td>\n",
       "      <td>0.090147</td>\n",
       "      <td>...</td>\n",
       "      <td>0.010711</td>\n",
       "      <td>0.022204</td>\n",
       "      <td>0.093252</td>\n",
       "      <td>0.007135</td>\n",
       "      <td>0.033894</td>\n",
       "      <td>-0.023813</td>\n",
       "      <td>-0.013041</td>\n",
       "      <td>0.041588</td>\n",
       "      <td>-0.087465</td>\n",
       "      <td>-0.087643</td>\n",
       "    </tr>\n",
       "    <tr>\n",
       "      <th>4</th>\n",
       "      <td>-0.004483</td>\n",
       "      <td>0.031152</td>\n",
       "      <td>-0.027568</td>\n",
       "      <td>-0.009516</td>\n",
       "      <td>0.063459</td>\n",
       "      <td>0.014560</td>\n",
       "      <td>0.009373</td>\n",
       "      <td>-0.019233</td>\n",
       "      <td>0.060789</td>\n",
       "      <td>0.080719</td>\n",
       "      <td>...</td>\n",
       "      <td>0.006685</td>\n",
       "      <td>0.014033</td>\n",
       "      <td>0.063868</td>\n",
       "      <td>0.002771</td>\n",
       "      <td>0.029713</td>\n",
       "      <td>-0.022151</td>\n",
       "      <td>-0.021135</td>\n",
       "      <td>0.035744</td>\n",
       "      <td>-0.063698</td>\n",
       "      <td>-0.071717</td>\n",
       "    </tr>\n",
       "  </tbody>\n",
       "</table>\n",
       "<p>5 rows × 200 columns</p>\n",
       "</div>"
      ],
      "text/plain": [
       "   Lemmatized_DocVec_0  Lemmatized_DocVec_1  Lemmatized_DocVec_2  \\\n",
       "0             0.027748             0.017034            -0.033596   \n",
       "1            -0.009907             0.040332            -0.024713   \n",
       "2             0.026733             0.009134             0.011481   \n",
       "3            -0.001222             0.045850            -0.030376   \n",
       "4            -0.004483             0.031152            -0.027568   \n",
       "\n",
       "   Lemmatized_DocVec_3  Lemmatized_DocVec_4  Lemmatized_DocVec_5  \\\n",
       "0            -0.036577             0.093753             0.011921   \n",
       "1             0.002329             0.063008             0.026923   \n",
       "2            -0.012636             0.034114             0.016022   \n",
       "3            -0.008558             0.098255             0.018821   \n",
       "4            -0.009516             0.063459             0.014560   \n",
       "\n",
       "   Lemmatized_DocVec_6  Lemmatized_DocVec_7  Lemmatized_DocVec_8  \\\n",
       "0             0.009011            -0.032714             0.088039   \n",
       "1             0.004440            -0.017439             0.078392   \n",
       "2            -0.011701            -0.026069             0.040446   \n",
       "3             0.020067            -0.038238             0.088649   \n",
       "4             0.009373            -0.019233             0.060789   \n",
       "\n",
       "   Lemmatized_DocVec_9  ...  Lemmatized_DocVec_190  Lemmatized_DocVec_191  \\\n",
       "0             0.147330  ...               0.003158               0.019271   \n",
       "1             0.088087  ...               0.013729               0.022427   \n",
       "2             0.073890  ...               0.026691               0.020610   \n",
       "3             0.090147  ...               0.010711               0.022204   \n",
       "4             0.080719  ...               0.006685               0.014033   \n",
       "\n",
       "   Lemmatized_DocVec_192  Lemmatized_DocVec_193  Lemmatized_DocVec_194  \\\n",
       "0               0.038356              -0.011493               0.023297   \n",
       "1               0.087125               0.004723               0.021917   \n",
       "2               0.117741               0.013414               0.025082   \n",
       "3               0.093252               0.007135               0.033894   \n",
       "4               0.063868               0.002771               0.029713   \n",
       "\n",
       "   Lemmatized_DocVec_195  Lemmatized_DocVec_196  Lemmatized_DocVec_197  \\\n",
       "0              -0.031086              -0.005403               0.013005   \n",
       "1              -0.011530              -0.013467               0.033440   \n",
       "2              -0.030421              -0.022731               0.044451   \n",
       "3              -0.023813              -0.013041               0.041588   \n",
       "4              -0.022151              -0.021135               0.035744   \n",
       "\n",
       "   Lemmatized_DocVec_198  Lemmatized_DocVec_199  \n",
       "0              -0.033269              -0.026450  \n",
       "1              -0.050096              -0.074780  \n",
       "2              -0.098812              -0.101796  \n",
       "3              -0.087465              -0.087643  \n",
       "4              -0.063698              -0.071717  \n",
       "\n",
       "[5 rows x 200 columns]"
      ]
     },
     "execution_count": 55,
     "metadata": {},
     "output_type": "execute_result"
    }
   ],
   "source": [
    "print(dfTrainFeatures.shape)\n",
    "dfTrainFeatures.head()"
   ]
  },
  {
   "cell_type": "code",
   "execution_count": 56,
   "metadata": {},
   "outputs": [
    {
     "name": "stdout",
     "output_type": "stream",
     "text": [
      "(243834,)\n",
      "(243834, 5)\n"
     ]
    },
    {
     "data": {
      "text/html": [
       "<div>\n",
       "<style scoped>\n",
       "    .dataframe tbody tr th:only-of-type {\n",
       "        vertical-align: middle;\n",
       "    }\n",
       "\n",
       "    .dataframe tbody tr th {\n",
       "        vertical-align: top;\n",
       "    }\n",
       "\n",
       "    .dataframe thead th {\n",
       "        text-align: right;\n",
       "    }\n",
       "</style>\n",
       "<table border=\"1\" class=\"dataframe\">\n",
       "  <thead>\n",
       "    <tr style=\"text-align: right;\">\n",
       "      <th></th>\n",
       "      <th>RowID</th>\n",
       "      <th>BeerID</th>\n",
       "      <th>ReviewerID</th>\n",
       "      <th>rating</th>\n",
       "      <th>Lemmatized</th>\n",
       "    </tr>\n",
       "  </thead>\n",
       "  <tbody>\n",
       "    <tr>\n",
       "      <th>0</th>\n",
       "      <td>22</td>\n",
       "      <td>12300</td>\n",
       "      <td>2634</td>\n",
       "      <td>4.0</td>\n",
       "      <td>pour bomber shaker pint glass</td>\n",
       "    </tr>\n",
       "    <tr>\n",
       "      <th>1</th>\n",
       "      <td>27</td>\n",
       "      <td>12300</td>\n",
       "      <td>5634</td>\n",
       "      <td>4.5</td>\n",
       "      <td>get 22 ounce bomber pour deep bright brown pre...</td>\n",
       "    </tr>\n",
       "    <tr>\n",
       "      <th>2</th>\n",
       "      <td>28</td>\n",
       "      <td>12300</td>\n",
       "      <td>3544</td>\n",
       "      <td>4.5</td>\n",
       "      <td>mood something different usual assortment ipa ...</td>\n",
       "    </tr>\n",
       "    <tr>\n",
       "      <th>3</th>\n",
       "      <td>40</td>\n",
       "      <td>12300</td>\n",
       "      <td>6521</td>\n",
       "      <td>4.0</td>\n",
       "      <td>caldera pale ale pick grape gourmet vb light g...</td>\n",
       "    </tr>\n",
       "    <tr>\n",
       "      <th>4</th>\n",
       "      <td>43</td>\n",
       "      <td>12300</td>\n",
       "      <td>10177</td>\n",
       "      <td>4.5</td>\n",
       "      <td>receive beer powerball really sorry know send ...</td>\n",
       "    </tr>\n",
       "  </tbody>\n",
       "</table>\n",
       "</div>"
      ],
      "text/plain": [
       "   RowID  BeerID  ReviewerID  rating  \\\n",
       "0     22   12300        2634     4.0   \n",
       "1     27   12300        5634     4.5   \n",
       "2     28   12300        3544     4.5   \n",
       "3     40   12300        6521     4.0   \n",
       "4     43   12300       10177     4.5   \n",
       "\n",
       "                                          Lemmatized  \n",
       "0                      pour bomber shaker pint glass  \n",
       "1  get 22 ounce bomber pour deep bright brown pre...  \n",
       "2  mood something different usual assortment ipa ...  \n",
       "3  caldera pale ale pick grape gourmet vb light g...  \n",
       "4  receive beer powerball really sorry know send ...  "
      ]
     },
     "execution_count": 56,
     "metadata": {},
     "output_type": "execute_result"
    }
   ],
   "source": [
    "print(dfValiTarget.shape)\n",
    "print(df_vali_data.shape)\n",
    "df_vali_data.head()"
   ]
  },
  {
   "cell_type": "code",
   "execution_count": 57,
   "metadata": {},
   "outputs": [],
   "source": [
    "#  best params\n",
    "# {'learning_rate': 0.2472480229316372, 'num_leaves': 125, 'max_depth': 24, 'n_estimators ': 796}. \n",
    "\n",
    "\n",
    "# No tuning\n",
    "# model = lgb.LGBMRegressor(objective=\"regression_l1\", metric=\"mae\", random_state=seed)\n",
    "\n",
    "# best params  \n",
    "  \n",
    "# model = lgb.LGBMRegressor(objective=\"regression_l1\", metric=\"mae\", random_state=seed\n",
    "#     ,learning_rate=0.2472480229316372, num_leaves = 125, max_depth = 24, n_estimators = 796\n",
    "#   )\n",
    "\n",
    "# model.fit(X=dfTrainFeatures, y=dfTrainTarget)"
   ]
  },
  {
   "cell_type": "code",
   "execution_count": 58,
   "metadata": {},
   "outputs": [
    {
     "name": "stdout",
     "output_type": "stream",
     "text": [
      "<class 'tuple'>\n",
      "<class 'list'>\n",
      "<class 'list'>\n"
     ]
    }
   ],
   "source": [
    "# Use the model to predict against our validation data\n",
    "test_predicted = fasttext_model.predict(lstValiTextCol)\n",
    "print(type(test_predicted))\n",
    "print(type(test_predicted[0]))\n",
    "print(type(test_predicted[1]))"
   ]
  },
  {
   "cell_type": "code",
   "execution_count": 59,
   "metadata": {},
   "outputs": [
    {
     "name": "stdout",
     "output_type": "stream",
     "text": [
      "243834\n",
      "[['__label__4.0'], ['__label__4.0'], ['__label__4.0'], ['__label__4.0'], ['__label__4.0'], ['__label__4.0'], ['__label__4.0'], ['__label__4.0'], ['__label__4.0'], ['__label__4.0'], ['__label__4.0'], ['__label__4.0'], ['__label__4.0'], ['__label__4.0'], ['__label__4.0'], ['__label__4.0'], ['__label__4.0'], ['__label__4.0'], ['__label__4.0'], ['__label__4.0']]\n"
     ]
    }
   ],
   "source": [
    "print(str(len(test_predicted[0])))\n",
    "print(test_predicted[0][0:20])"
   ]
  },
  {
   "cell_type": "code",
   "execution_count": 60,
   "metadata": {},
   "outputs": [
    {
     "name": "stdout",
     "output_type": "stream",
     "text": [
      "[array([0.35361546], dtype=float32), array([0.31673735], dtype=float32), array([0.263824], dtype=float32), array([0.32535633], dtype=float32), array([0.3074722], dtype=float32), array([0.3102886], dtype=float32), array([0.29837528], dtype=float32), array([0.30455717], dtype=float32), array([0.3141752], dtype=float32), array([0.3262775], dtype=float32), array([0.28866246], dtype=float32), array([0.31331453], dtype=float32), array([0.29002008], dtype=float32), array([0.3293735], dtype=float32), array([0.3487898], dtype=float32), array([0.3293735], dtype=float32), array([0.29153654], dtype=float32), array([0.32098266], dtype=float32), array([0.2874152], dtype=float32), array([0.3262775], dtype=float32)]\n"
     ]
    }
   ],
   "source": [
    "print(test_predicted[1][0:20])"
   ]
  },
  {
   "cell_type": "code",
   "execution_count": 61,
   "metadata": {},
   "outputs": [],
   "source": [
    "lstPredictedNum = list(map(lambda x: float(x[0].replace(\"__label__\", \"\")), test_predicted[0]))"
   ]
  },
  {
   "cell_type": "code",
   "execution_count": 77,
   "metadata": {},
   "outputs": [
    {
     "name": "stdout",
     "output_type": "stream",
     "text": [
      "[4.0, 4.0, 4.0, 4.0, 4.0, 4.0, 4.0, 4.0, 4.0, 4.0, 4.0, 4.0, 4.0, 4.0, 4.0, 4.0, 4.0, 4.0, 4.0, 4.0]\n",
      "['__label__4.0', '__label__4.0', '__label__4.0', '__label__4.0', '__label__4.0', '__label__4.0', '__label__4.0', '__label__4.0', '__label__4.0', '__label__4.0']\n"
     ]
    },
    {
     "data": {
      "text/plain": [
       "0         4.0\n",
       "211       NaN\n",
       "8588      0.0\n",
       "12869     3.5\n",
       "41274     1.0\n",
       "89539     3.0\n",
       "93169     4.5\n",
       "225596    1.5\n",
       "Name: Prediction, dtype: float64"
      ]
     },
     "execution_count": 77,
     "metadata": {},
     "output_type": "execute_result"
    }
   ],
   "source": [
    "print(lstPredictedNum[0:20])\n",
    "predList = list(map(lambda x: x[0], test_predicted[0]))\n",
    "print(predList[0:10])\n",
    "\n",
    "dfPredTemp = pd.DataFrame( { \"Label\": predList, \"Prediction\" : lstPredictedNum } )\n",
    "dfPredTemp[\"Label\"].drop_duplicates().head(20)\n",
    "\n",
    "\n",
    "dfPredTemp[\"Prediction\"].drop_duplicates().head(20)\n"
   ]
  },
  {
   "cell_type": "code",
   "execution_count": 78,
   "metadata": {},
   "outputs": [],
   "source": [
    "np.mean(dfPredTemp[\"Prediction\"])\n",
    "dfPredTemp[\"Prediction\"] = dfPredTemp[\"Prediction\"].fillna(4.0)"
   ]
  },
  {
   "cell_type": "code",
   "execution_count": 79,
   "metadata": {},
   "outputs": [
    {
     "data": {
      "text/plain": [
       "0         4.0\n",
       "8588      0.0\n",
       "12869     3.5\n",
       "41274     1.0\n",
       "89539     3.0\n",
       "93169     4.5\n",
       "225596    1.5\n",
       "Name: Prediction, dtype: float64"
      ]
     },
     "execution_count": 79,
     "metadata": {},
     "output_type": "execute_result"
    }
   ],
   "source": [
    "dfPredTemp[\"Label\"].head()\n",
    "dfPredTemp[\"Prediction\"].drop_duplicates().head(20)\n"
   ]
  },
  {
   "cell_type": "code",
   "execution_count": 80,
   "metadata": {},
   "outputs": [
    {
     "name": "stdout",
     "output_type": "stream",
     "text": [
      "Average MAE: 0.49473002124396104\n",
      "analyse_maes.append(0.49473002124396104)\n"
     ]
    }
   ],
   "source": [
    "mae = mean_absolute_error(dfValiTarget, dfPredTemp[\"Prediction\"])\n",
    "\n",
    "print(\"Average MAE: \" + str(mae))\n",
    "print(\"analyse_maes.append(\" + str(mae) + \")\")"
   ]
  },
  {
   "cell_type": "code",
   "execution_count": null,
   "metadata": {},
   "outputs": [],
   "source": [
    "dfPredicted = pd.DataFrame({\"Predict\": test_predicted})\n",
    "dfPredicted['Predict'].hist(bins=10)\n"
   ]
  },
  {
   "cell_type": "markdown",
   "metadata": {},
   "source": [
    "Write to a subrun file"
   ]
  },
  {
   "cell_type": "code",
   "execution_count": null,
   "metadata": {},
   "outputs": [],
   "source": [
    "dfPredicted = pd.concat([dfValiIds.reset_index(), dfPredicted], axis=1).drop(columns=\"index\")\n",
    "\n",
    "if writeSubRunFile:\n",
    "  dfPredicted.to_csv(subrunDir + filePrefix + \"_subrun.csv\", index=False)\n",
    "\n",
    "print(\"Average MAE: \" + str(mae))\n",
    "print(dfPredicted.shape)\n",
    "dfPredicted.sort_values(\"RowID\").head(20)\n"
   ]
  },
  {
   "cell_type": "markdown",
   "metadata": {},
   "source": [
    "# Summary\n",
    "\n",
    "No Param Tuning\n",
    "* Beer Name NLP, 200k\n",
    "* MAE 0.4382028648981029\n",
    "\n"
   ]
  }
 ],
 "metadata": {
  "interpreter": {
   "hash": "a1c06c75df55f9518a2e4db6ce3b8ca21fb7e457d427684d07afebc061061d6a"
  },
  "kernelspec": {
   "display_name": "Python 3.9.5 64-bit",
   "name": "python3"
  },
  "language_info": {
   "codemirror_mode": {
    "name": "ipython",
    "version": 3
   },
   "file_extension": ".py",
   "mimetype": "text/x-python",
   "name": "python",
   "nbconvert_exporter": "python",
   "pygments_lexer": "ipython3",
   "version": "3.9.5"
  },
  "orig_nbformat": 4
 },
 "nbformat": 4,
 "nbformat_minor": 2
}
