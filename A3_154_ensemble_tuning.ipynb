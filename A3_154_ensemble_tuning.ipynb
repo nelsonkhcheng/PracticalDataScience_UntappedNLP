{
 "cells": [
  {
   "cell_type": "code",
   "execution_count": 16,
   "metadata": {},
   "outputs": [],
   "source": [
    "# Import libraries\n",
    "import pandas as pd\n",
    "import numpy as np\n",
    "import lightgbm as lgb\n",
    "\n",
    "from sklearn.metrics import mean_absolute_error\n",
    "import optuna\n",
    "\n",
    "import features_utility as featutil\n",
    "from utilities import data_basic_utility as databasic"
   ]
  },
  {
   "cell_type": "markdown",
   "metadata": {},
   "source": [
    "## File Details\n",
    "\n",
    "Basic run with SVD without cross validation. This can be the basis for parameter tuning and other stuff later\n"
   ]
  },
  {
   "cell_type": "markdown",
   "metadata": {},
   "source": [
    "# Assignment 3 -- Recommendation Systems\n",
    "\n",
    "* The final challenge is much like Assignment 2 -- but scoped appropriately for the time and your current abilities.\n",
    "* It is ratings prediction, just like the movielens recommendations we have seen and many other similar problems.\n",
    "* The features created are based on Beer Reviews from experts on a website.\n",
    "* Each beer has been scored between 0 and 5 (on a real scale, so 2.75 or 3.5 is OK).\n",
    "* The official measure is Mean Average Error (MAE) which is pretty intuitive to work with. Everything supports is and it is easy to interpret.\n",
    "* A set of features have been created based on the reviewer, the written review, and information about the Beer being reviewed.\n",
    "* Not all features have to be used, and you can easily create new features using the data if you like.\n",
    "* The features included are:\n",
    "\n",
    "![title](Images/A3Features.png)\n",
    "\n",
    "* Sizes of the files are:\n",
    "|Size | File|\n",
    "|---|---|\n",
    "| 1.9G | features.tsv |\n",
    "| 88B  | header-features.tsv|\n",
    "| 48B  | header.tsv |\n",
    "| 15M  | test.tsv |\n",
    "| 50M  | train.tsv |\n",
    "| 16M |  val.tsv |\n"
   ]
  },
  {
   "cell_type": "code",
   "execution_count": 17,
   "metadata": {},
   "outputs": [],
   "source": [
    "filePrefix = \"A3_153_ensemble_v5_complete_run\"\n",
    "baseDataDir = \"C:/Development/Data/COSC2670/Assignment3/A3data/\"\n",
    "subrunDir = \"subruns/\"\n",
    "seed = databasic.get_random_seed()"
   ]
  },
  {
   "cell_type": "code",
   "execution_count": 18,
   "metadata": {},
   "outputs": [],
   "source": [
    "\n",
    "valiFilePath = baseDataDir + 'val.tsv'\n"
   ]
  },
  {
   "cell_type": "markdown",
   "metadata": {},
   "source": [
    "Column List: \n",
    "RowID BrewerID ABV DayofWeek Month DayofMonth Year TimeOfDay Gender Birthday Text Lemmatized POS_Tag\n",
    "\n"
   ]
  },
  {
   "cell_type": "code",
   "execution_count": 19,
   "metadata": {},
   "outputs": [],
   "source": [
    "# Read the validation data (in full) again. But this time, we just want the Row and the rating\n",
    "df_vali = pd.read_csv(valiFilePath,sep='\\t',\n",
    "              names=['RowID','BeerID','ReviewerID','BeerName','BeerType','rating'])\n",
    "\n",
    "df_ensemble_full = df_vali[[\"RowID\", \"rating\"]]      \n",
    "\n",
    "del df_vali"
   ]
  },
  {
   "cell_type": "code",
   "execution_count": 20,
   "metadata": {},
   "outputs": [],
   "source": [
    "# Load all the sub runs and join them together with the ensemble data\n",
    "\n",
    "# Collaborative Filter Runs\n",
    "fileName = filePrefix + \"_\" + \"knnwithmeans\" + \"_val\" + \"_subrun\"\n",
    "df_ensemble_full = featutil.joinRunToEnsembleFrame(df_ensemble_full, subrunDir, fileName)\n",
    "\n",
    "fileName = filePrefix + \"_\" + \"baselineonly\" + \"_val\" + \"_subrun\"\n",
    "df_ensemble_full = featutil.joinRunToEnsembleFrame(df_ensemble_full, subrunDir, fileName)\n",
    "\n",
    "fileName = filePrefix + \"_\" + \"svdpp\" + \"_val\" + \"_subrun\"\n",
    "df_ensemble_full = featutil.joinRunToEnsembleFrame(df_ensemble_full, subrunDir, fileName)\n",
    "\n",
    "fileName = filePrefix + \"_\" + \"slopeone\" + \"_val\" + \"_subrun\"\n",
    "df_ensemble_full = featutil.joinRunToEnsembleFrame(df_ensemble_full, subrunDir, fileName)\n",
    "\n",
    "# # Content Filter Runs\n",
    "fileName = filePrefix + \"_\" + \"lgbm_beercontext\" + \"_val\" + \"_subrun\"\n",
    "df_ensemble_full = featutil.joinRunToEnsembleFrame(df_ensemble_full, subrunDir, fileName)\n",
    "\n",
    "fileName = filePrefix + \"_\" + \"lgbm_allcols\" + \"_val\" + \"_subrun\"\n",
    "df_ensemble_full = featutil.joinRunToEnsembleFrame(df_ensemble_full, subrunDir, fileName)\n",
    "\n",
    "fileName = filePrefix + \"_\" + \"sklinearreg\" + \"_val\" + \"_subrun\"\n",
    "df_ensemble_full = featutil.joinRunToEnsembleFrame(df_ensemble_full, subrunDir, fileName)\n",
    "\n",
    "\n",
    "# # Content Filter with NLP Runs\n",
    "fileName = filePrefix + \"_\" + \"lgbm_allcols_inc_nlp\" + \"_val\" + \"_subrun\"\n",
    "df_ensemble_full = featutil.joinRunToEnsembleFrame(df_ensemble_full, subrunDir, fileName)\n",
    "\n",
    "fileName = filePrefix + \"_\" + \"lgbm_allcols_nlp_beer_name\" + \"_val\" + \"_subrun\"\n",
    "df_ensemble_full = featutil.joinRunToEnsembleFrame(df_ensemble_full, subrunDir, fileName)\n",
    "\n",
    "fileName = filePrefix + \"_\" + \"lgbm_allcols_nlp_text\" + \"_val\" + \"_subrun\"\n",
    "df_ensemble_full = featutil.joinRunToEnsembleFrame(df_ensemble_full, subrunDir, fileName)\n",
    "\n",
    "\n",
    "# Hybrid Filter \n",
    "  \n",
    "fileName = filePrefix + \"_\" + \"contentknn\" + \"_val\" + \"_subrun\"\n",
    "df_ensemble_full = featutil.joinRunToEnsembleFrame(df_ensemble_full, subrunDir, fileName)"
   ]
  },
  {
   "cell_type": "code",
   "execution_count": 21,
   "metadata": {},
   "outputs": [],
   "source": [
    "# Get all the columns\n",
    "col_names = df_ensemble_full.columns\n",
    "\n",
    "feature_cols =  col_names.drop(['RowID','rating' ])\n",
    "target_col = 'rating'\n",
    "\n",
    "dfTrainFeatures = df_ensemble_full[feature_cols]\n",
    "dfTrainTarget = df_ensemble_full[target_col]"
   ]
  },
  {
   "cell_type": "code",
   "execution_count": 22,
   "metadata": {},
   "outputs": [],
   "source": [
    "def objective(trial):\n",
    "  # Create the Light GBM Regression model and train\n",
    "  model = lgb.LGBMRegressor(objective=\"regression_l1\", metric=\"mae\", random_state=seed\n",
    "    ,learning_rate=trial.suggest_float(\"learning_rate\", 0.005, 0.3)\n",
    "    ,num_leaves=trial.suggest_int(\"num_leaves\", 2, 127)\n",
    "    ,max_depth=trial.suggest_int(\"max_depth\", 2, 30)\n",
    "    ,n_estimators=trial.suggest_int(\"n_estimators \", 50, 1000)\n",
    "    # ,min_split_gain=trial.suggest_float(\"min_split_gain\", 0.001, 1.0)\n",
    "    # ,min_child_samples=trial.suggest_int(\"min_child_samples\", 1, 100)  \n",
    "    # #,min_child_weight =trial.suggest_float(\"min_child_weight\", 0.0001, 0.1) \n",
    "    # ,subsample =trial.suggest_float(\"subsample\", 0.1, 1.0) \n",
    "    # ,subsample_freq =trial.suggest_int(\"subsample_freq\", 0, 15)\n",
    "    # ,colsample_bytree =trial.suggest_float(\"colsample_bytree\", 0.1, 1.0) \n",
    "    # ,reg_alpha =trial.suggest_float(\"reg_alpha\", 0.1, 1.0) \n",
    "    # ,reg_lambda =trial.suggest_float(\"reg_lambda\", 0.1, 1.0)      \n",
    "  )\n",
    "\n",
    "  model.fit(X=dfTrainFeatures, y=dfTrainTarget)\n",
    "\n",
    "  # use the model to predict\n",
    "  test_predicted = model.predict(dfTrainFeatures)\n",
    "\n",
    "  # Calc the MAE and display\n",
    "  mae = mean_absolute_error(dfTrainTarget, test_predicted)\n",
    "  return mae"
   ]
  },
  {
   "cell_type": "code",
   "execution_count": 23,
   "metadata": {},
   "outputs": [
    {
     "name": "stderr",
     "output_type": "stream",
     "text": [
      "\u001b[32m[I 2021-10-24 20:39:03,743]\u001b[0m A new study created in memory with name: no-name-a75255d0-fad9-4499-b0f9-56288b61221c\u001b[0m\n",
      "\u001b[32m[I 2021-10-24 20:39:10,301]\u001b[0m Trial 0 finished with value: 0.40235993795049557 and parameters: {'learning_rate': 0.1383603776488615, 'num_leaves': 103, 'max_depth': 9, 'n_estimators ': 553}. Best is trial 0 with value: 0.40235993795049557.\u001b[0m\n",
      "\u001b[32m[I 2021-10-24 20:39:17,099]\u001b[0m Trial 1 finished with value: 0.4045291849066634 and parameters: {'learning_rate': 0.041371240178682975, 'num_leaves': 75, 'max_depth': 17, 'n_estimators ': 584}. Best is trial 0 with value: 0.40235993795049557.\u001b[0m\n",
      "\u001b[32m[I 2021-10-24 20:39:19,643]\u001b[0m Trial 2 finished with value: 0.42436957402436465 and parameters: {'learning_rate': 0.21750222911093045, 'num_leaves': 99, 'max_depth': 3, 'n_estimators ': 438}. Best is trial 0 with value: 0.40235993795049557.\u001b[0m\n",
      "\u001b[32m[I 2021-10-24 20:39:20,820]\u001b[0m Trial 3 finished with value: 0.4053997233344139 and parameters: {'learning_rate': 0.0569888058481994, 'num_leaves': 108, 'max_depth': 13, 'n_estimators ': 74}. Best is trial 0 with value: 0.40235993795049557.\u001b[0m\n",
      "\u001b[32m[I 2021-10-24 20:39:25,098]\u001b[0m Trial 4 finished with value: 0.4209419401469222 and parameters: {'learning_rate': 0.2502423433361756, 'num_leaves': 10, 'max_depth': 19, 'n_estimators ': 610}. Best is trial 0 with value: 0.40235993795049557.\u001b[0m\n",
      "\u001b[32m[I 2021-10-24 20:39:29,398]\u001b[0m Trial 5 finished with value: 0.4151135033324886 and parameters: {'learning_rate': 0.06292570150125987, 'num_leaves': 27, 'max_depth': 29, 'n_estimators ': 394}. Best is trial 0 with value: 0.40235993795049557.\u001b[0m\n",
      "\u001b[32m[I 2021-10-24 20:39:34,468]\u001b[0m Trial 6 finished with value: 0.4033524655416771 and parameters: {'learning_rate': 0.04324118263911054, 'num_leaves': 88, 'max_depth': 26, 'n_estimators ': 351}. Best is trial 0 with value: 0.40235993795049557.\u001b[0m\n",
      "\u001b[32m[I 2021-10-24 20:39:46,102]\u001b[0m Trial 7 finished with value: 0.40113342515231604 and parameters: {'learning_rate': 0.06299580873163563, 'num_leaves': 109, 'max_depth': 11, 'n_estimators ': 629}. Best is trial 7 with value: 0.40113342515231604.\u001b[0m\n",
      "\u001b[32m[I 2021-10-24 20:39:50,457]\u001b[0m Trial 8 finished with value: 0.42608521443105457 and parameters: {'learning_rate': 0.13152535216046346, 'num_leaves': 6, 'max_depth': 11, 'n_estimators ': 520}. Best is trial 7 with value: 0.40113342515231604.\u001b[0m\n",
      "\u001b[32m[I 2021-10-24 20:40:03,231]\u001b[0m Trial 9 finished with value: 0.39249350282804346 and parameters: {'learning_rate': 0.21981828356270863, 'num_leaves': 123, 'max_depth': 25, 'n_estimators ': 660}. Best is trial 9 with value: 0.39249350282804346.\u001b[0m\n",
      "\u001b[32m[I 2021-10-24 20:40:21,769]\u001b[0m Trial 10 finished with value: 0.3997844609704302 and parameters: {'learning_rate': 0.29393968547276084, 'num_leaves': 126, 'max_depth': 23, 'n_estimators ': 965}. Best is trial 9 with value: 0.39249350282804346.\u001b[0m\n",
      "\u001b[32m[I 2021-10-24 20:40:40,697]\u001b[0m Trial 11 finished with value: 0.3988929405973959 and parameters: {'learning_rate': 0.2984964126619303, 'num_leaves': 127, 'max_depth': 23, 'n_estimators ': 994}. Best is trial 9 with value: 0.39249350282804346.\u001b[0m\n",
      "\u001b[32m[I 2021-10-24 20:40:57,605]\u001b[0m Trial 12 finished with value: 0.40010839785248764 and parameters: {'learning_rate': 0.20805487063857192, 'num_leaves': 127, 'max_depth': 23, 'n_estimators ': 912}. Best is trial 9 with value: 0.39249350282804346.\u001b[0m\n",
      "\u001b[32m[I 2021-10-24 20:41:07,163]\u001b[0m Trial 13 finished with value: 0.40986975568344397 and parameters: {'learning_rate': 0.29548991235689426, 'num_leaves': 59, 'max_depth': 21, 'n_estimators ': 799}. Best is trial 9 with value: 0.39249350282804346.\u001b[0m\n",
      "\u001b[32m[I 2021-10-24 20:41:16,094]\u001b[0m Trial 14 finished with value: 0.40978669290649483 and parameters: {'learning_rate': 0.19069799913887325, 'num_leaves': 49, 'max_depth': 30, 'n_estimators ': 794}. Best is trial 9 with value: 0.39249350282804346.\u001b[0m\n",
      "\u001b[32m[I 2021-10-24 20:41:26,840]\u001b[0m Trial 15 finished with value: 0.4062893955755241 and parameters: {'learning_rate': 0.251318612923895, 'num_leaves': 82, 'max_depth': 26, 'n_estimators ': 761}. Best is trial 9 with value: 0.39249350282804346.\u001b[0m\n",
      "\u001b[32m[I 2021-10-24 20:41:31,079]\u001b[0m Trial 16 finished with value: 0.3976868701394166 and parameters: {'learning_rate': 0.2579213286668216, 'num_leaves': 119, 'max_depth': 27, 'n_estimators ': 258}. Best is trial 9 with value: 0.39249350282804346.\u001b[0m\n",
      "\u001b[32m[I 2021-10-24 20:41:33,490]\u001b[0m Trial 17 finished with value: 0.4111881688882702 and parameters: {'learning_rate': 0.17481820621351837, 'num_leaves': 48, 'max_depth': 27, 'n_estimators ': 202}. Best is trial 9 with value: 0.39249350282804346.\u001b[0m\n",
      "\u001b[32m[I 2021-10-24 20:41:38,414]\u001b[0m Trial 18 finished with value: 0.40163646829582184 and parameters: {'learning_rate': 0.24660519174547388, 'num_leaves': 115, 'max_depth': 16, 'n_estimators ': 264}. Best is trial 9 with value: 0.39249350282804346.\u001b[0m\n",
      "\u001b[32m[I 2021-10-24 20:41:39,354]\u001b[0m Trial 19 finished with value: 0.4062540504717364 and parameters: {'learning_rate': 0.10159939926453482, 'num_leaves': 90, 'max_depth': 30, 'n_estimators ': 52}. Best is trial 9 with value: 0.39249350282804346.\u001b[0m\n",
      "\u001b[32m[I 2021-10-24 20:41:42,401]\u001b[0m Trial 20 finished with value: 0.40734521196887047 and parameters: {'learning_rate': 0.22998293487369606, 'num_leaves': 73, 'max_depth': 20, 'n_estimators ': 197}. Best is trial 9 with value: 0.39249350282804346.\u001b[0m\n",
      "\u001b[32m[I 2021-10-24 20:41:54,438]\u001b[0m Trial 21 finished with value: 0.3845116238056235 and parameters: {'learning_rate': 0.2743431718467076, 'num_leaves': 119, 'max_depth': 24, 'n_estimators ': 722}. Best is trial 21 with value: 0.3845116238056235.\u001b[0m\n",
      "\u001b[32m[I 2021-10-24 20:42:05,803]\u001b[0m Trial 22 finished with value: 0.40166114580047224 and parameters: {'learning_rate': 0.26681195378330613, 'num_leaves': 117, 'max_depth': 25, 'n_estimators ': 697}. Best is trial 21 with value: 0.3845116238056235.\u001b[0m\n",
      "\u001b[32m[I 2021-10-24 20:42:20,760]\u001b[0m Trial 23 finished with value: 0.4012335197320756 and parameters: {'learning_rate': 0.27685023091057076, 'num_leaves': 97, 'max_depth': 28, 'n_estimators ': 861}. Best is trial 21 with value: 0.3845116238056235.\u001b[0m\n",
      "\u001b[32m[I 2021-10-24 20:42:31,736]\u001b[0m Trial 24 finished with value: 0.39761532322966875 and parameters: {'learning_rate': 0.17696563084262562, 'num_leaves': 117, 'max_depth': 24, 'n_estimators ': 687}. Best is trial 21 with value: 0.3845116238056235.\u001b[0m\n",
      "\u001b[32m[I 2021-10-24 20:42:43,157]\u001b[0m Trial 25 finished with value: 0.40136071122325234 and parameters: {'learning_rate': 0.17049380512798526, 'num_leaves': 112, 'max_depth': 24, 'n_estimators ': 700}. Best is trial 21 with value: 0.3845116238056235.\u001b[0m\n",
      "\u001b[32m[I 2021-10-24 20:42:53,902]\u001b[0m Trial 26 finished with value: 0.4023469002746254 and parameters: {'learning_rate': 0.20153278851654982, 'num_leaves': 95, 'max_depth': 17, 'n_estimators ': 717}. Best is trial 21 with value: 0.3845116238056235.\u001b[0m\n",
      "\u001b[32m[I 2021-10-24 20:43:02,550]\u001b[0m Trial 27 finished with value: 0.3976419477457915 and parameters: {'learning_rate': 0.2282082331062002, 'num_leaves': 104, 'max_depth': 21, 'n_estimators ': 483}. Best is trial 21 with value: 0.3845116238056235.\u001b[0m\n",
      "\u001b[32m[I 2021-10-24 20:43:08,232]\u001b[0m Trial 28 finished with value: 0.4280670806313803 and parameters: {'learning_rate': 0.007981670238345923, 'num_leaves': 118, 'max_depth': 2, 'n_estimators ': 652}. Best is trial 21 with value: 0.3845116238056235.\u001b[0m\n",
      "\u001b[32m[I 2021-10-24 20:43:15,574]\u001b[0m Trial 29 finished with value: 0.4158878449634242 and parameters: {'learning_rate': 0.1429985298052448, 'num_leaves': 102, 'max_depth': 5, 'n_estimators ': 851}. Best is trial 21 with value: 0.3845116238056235.\u001b[0m\n",
      "\u001b[32m[I 2021-10-24 20:43:22,950]\u001b[0m Trial 30 finished with value: 0.4058612568095671 and parameters: {'learning_rate': 0.12698092844354172, 'num_leaves': 83, 'max_depth': 19, 'n_estimators ': 511}. Best is trial 21 with value: 0.3845116238056235.\u001b[0m\n",
      "\u001b[32m[I 2021-10-24 20:43:31,485]\u001b[0m Trial 31 finished with value: 0.4003090212343632 and parameters: {'learning_rate': 0.22856099832305282, 'num_leaves': 107, 'max_depth': 21, 'n_estimators ': 516}. Best is trial 21 with value: 0.3845116238056235.\u001b[0m\n",
      "\u001b[32m[I 2021-10-24 20:43:41,187]\u001b[0m Trial 32 finished with value: 0.4012802912858116 and parameters: {'learning_rate': 0.17794423062285017, 'num_leaves': 122, 'max_depth': 22, 'n_estimators ': 562}. Best is trial 21 with value: 0.3845116238056235.\u001b[0m\n",
      "\u001b[32m[I 2021-10-24 20:43:49,464]\u001b[0m Trial 33 finished with value: 0.4033978440932384 and parameters: {'learning_rate': 0.2297894360698853, 'num_leaves': 105, 'max_depth': 25, 'n_estimators ': 471}. Best is trial 21 with value: 0.3845116238056235.\u001b[0m\n",
      "\u001b[32m[I 2021-10-24 20:43:59,921]\u001b[0m Trial 34 finished with value: 0.39626209570471077 and parameters: {'learning_rate': 0.1939584646290971, 'num_leaves': 113, 'max_depth': 17, 'n_estimators ': 662}. Best is trial 21 with value: 0.3845116238056235.\u001b[0m\n",
      "\u001b[32m[I 2021-10-24 20:44:12,064]\u001b[0m Trial 35 finished with value: 0.3954521990291995 and parameters: {'learning_rate': 0.1053399792470675, 'num_leaves': 113, 'max_depth': 15, 'n_estimators ': 662}. Best is trial 21 with value: 0.3845116238056235.\u001b[0m\n",
      "\u001b[32m[I 2021-10-24 20:44:20,760]\u001b[0m Trial 36 finished with value: 0.4005461616370681 and parameters: {'learning_rate': 0.10766741577085245, 'num_leaves': 95, 'max_depth': 13, 'n_estimators ': 593}. Best is trial 21 with value: 0.3845116238056235.\u001b[0m\n",
      "\u001b[32m[I 2021-10-24 20:44:30,826]\u001b[0m Trial 37 finished with value: 0.40679204787934886 and parameters: {'learning_rate': 0.15690192109127316, 'num_leaves': 73, 'max_depth': 15, 'n_estimators ': 766}. Best is trial 21 with value: 0.3845116238056235.\u001b[0m\n",
      "\u001b[32m[I 2021-10-24 20:44:39,832]\u001b[0m Trial 38 finished with value: 0.4024648562957476 and parameters: {'learning_rate': 0.0833915420189485, 'num_leaves': 113, 'max_depth': 8, 'n_estimators ': 620}. Best is trial 21 with value: 0.3845116238056235.\u001b[0m\n",
      "\u001b[32m[I 2021-10-24 20:44:46,542]\u001b[0m Trial 39 finished with value: 0.41409338068218854 and parameters: {'learning_rate': 0.15536120671772838, 'num_leaves': 32, 'max_depth': 18, 'n_estimators ': 655}. Best is trial 21 with value: 0.3845116238056235.\u001b[0m\n",
      "\u001b[32m[I 2021-10-24 20:44:52,794]\u001b[0m Trial 40 finished with value: 0.40157960171147733 and parameters: {'learning_rate': 0.19462111901931572, 'num_leaves': 110, 'max_depth': 14, 'n_estimators ': 394}. Best is trial 21 with value: 0.3845116238056235.\u001b[0m\n",
      "\u001b[32m[I 2021-10-24 20:45:03,606]\u001b[0m Trial 41 finished with value: 0.3975058786538518 and parameters: {'learning_rate': 0.11582445763259516, 'num_leaves': 122, 'max_depth': 9, 'n_estimators ': 691}. Best is trial 21 with value: 0.3845116238056235.\u001b[0m\n",
      "\u001b[32m[I 2021-10-24 20:45:15,086]\u001b[0m Trial 42 finished with value: 0.40048451918737576 and parameters: {'learning_rate': 0.11353776680961038, 'num_leaves': 121, 'max_depth': 8, 'n_estimators ': 731}. Best is trial 21 with value: 0.3845116238056235.\u001b[0m\n",
      "\u001b[32m[I 2021-10-24 20:45:24,330]\u001b[0m Trial 43 finished with value: 0.4012700462789027 and parameters: {'learning_rate': 0.08551459249456314, 'num_leaves': 123, 'max_depth': 10, 'n_estimators ': 575}. Best is trial 21 with value: 0.3845116238056235.\u001b[0m\n",
      "\u001b[32m[I 2021-10-24 20:45:33,602]\u001b[0m Trial 44 finished with value: 0.41131747968535365 and parameters: {'learning_rate': 0.09348171483939637, 'num_leaves': 100, 'max_depth': 6, 'n_estimators ': 835}. Best is trial 21 with value: 0.3845116238056235.\u001b[0m\n",
      "\u001b[32m[I 2021-10-24 20:45:40,246]\u001b[0m Trial 45 finished with value: 0.4115110527552639 and parameters: {'learning_rate': 0.12129338903382811, 'num_leaves': 127, 'max_depth': 6, 'n_estimators ': 633}. Best is trial 21 with value: 0.3845116238056235.\u001b[0m\n",
      "\u001b[32m[I 2021-10-24 20:45:55,389]\u001b[0m Trial 46 finished with value: 0.4005281485033462 and parameters: {'learning_rate': 0.27686383788242835, 'num_leaves': 110, 'max_depth': 11, 'n_estimators ': 919}. Best is trial 21 with value: 0.3845116238056235.\u001b[0m\n",
      "\u001b[32m[I 2021-10-24 20:46:05,931]\u001b[0m Trial 47 finished with value: 0.4002786287549117 and parameters: {'learning_rate': 0.21236008844618215, 'num_leaves': 90, 'max_depth': 12, 'n_estimators ': 746}. Best is trial 21 with value: 0.3845116238056235.\u001b[0m\n",
      "\u001b[32m[I 2021-10-24 20:46:12,116]\u001b[0m Trial 48 finished with value: 0.41827669009544216 and parameters: {'learning_rate': 0.13924339606529293, 'num_leaves': 17, 'max_depth': 16, 'n_estimators ': 805}. Best is trial 21 with value: 0.3845116238056235.\u001b[0m\n",
      "\u001b[32m[I 2021-10-24 20:46:23,834]\u001b[0m Trial 49 finished with value: 0.4002128642353016 and parameters: {'learning_rate': 0.052434733801727654, 'num_leaves': 123, 'max_depth': 9, 'n_estimators ': 659}. Best is trial 21 with value: 0.3845116238056235.\u001b[0m\n",
      "\u001b[32m[I 2021-10-24 20:46:32,346]\u001b[0m Trial 50 finished with value: 0.39536175261603784 and parameters: {'learning_rate': 0.08222261514341014, 'num_leaves': 114, 'max_depth': 15, 'n_estimators ': 542}. Best is trial 21 with value: 0.3845116238056235.\u001b[0m\n",
      "\u001b[32m[I 2021-10-24 20:46:42,184]\u001b[0m Trial 51 finished with value: 0.3990094044884338 and parameters: {'learning_rate': 0.07281978478347924, 'num_leaves': 113, 'max_depth': 14, 'n_estimators ': 550}. Best is trial 21 with value: 0.3845116238056235.\u001b[0m\n",
      "\u001b[32m[I 2021-10-24 20:46:51,612]\u001b[0m Trial 52 finished with value: 0.401495004808331 and parameters: {'learning_rate': 0.029721089857296372, 'num_leaves': 107, 'max_depth': 18, 'n_estimators ': 608}. Best is trial 21 with value: 0.3845116238056235.\u001b[0m\n",
      "\u001b[32m[I 2021-10-24 20:47:02,473]\u001b[0m Trial 53 finished with value: 0.3982239430109836 and parameters: {'learning_rate': 0.11611872516840158, 'num_leaves': 117, 'max_depth': 13, 'n_estimators ': 668}. Best is trial 21 with value: 0.3845116238056235.\u001b[0m\n",
      "\u001b[32m[I 2021-10-24 20:47:10,667]\u001b[0m Trial 54 finished with value: 0.3927721939774608 and parameters: {'learning_rate': 0.0695266866153693, 'num_leaves': 123, 'max_depth': 16, 'n_estimators ': 428}. Best is trial 21 with value: 0.3845116238056235.\u001b[0m\n",
      "\u001b[32m[I 2021-10-24 20:47:18,120]\u001b[0m Trial 55 finished with value: 0.3965604110517325 and parameters: {'learning_rate': 0.0295626965013771, 'num_leaves': 127, 'max_depth': 15, 'n_estimators ': 436}. Best is trial 21 with value: 0.3845116238056235.\u001b[0m\n",
      "\u001b[32m[I 2021-10-24 20:47:22,419]\u001b[0m Trial 56 finished with value: 0.40761158979534373 and parameters: {'learning_rate': 0.07054365667676979, 'num_leaves': 62, 'max_depth': 17, 'n_estimators ': 341}. Best is trial 21 with value: 0.3845116238056235.\u001b[0m\n",
      "\u001b[32m[I 2021-10-24 20:47:29,496]\u001b[0m Trial 57 finished with value: 0.39753444598582466 and parameters: {'learning_rate': 0.05014075080104821, 'num_leaves': 114, 'max_depth': 20, 'n_estimators ': 432}. Best is trial 21 with value: 0.3845116238056235.\u001b[0m\n",
      "\u001b[32m[I 2021-10-24 20:47:35,255]\u001b[0m Trial 58 finished with value: 0.3969663925365836 and parameters: {'learning_rate': 0.10021717726717091, 'num_leaves': 101, 'max_depth': 15, 'n_estimators ': 373}. Best is trial 21 with value: 0.3845116238056235.\u001b[0m\n",
      "\u001b[32m[I 2021-10-24 20:47:42,612]\u001b[0m Trial 59 finished with value: 0.39974198855836696 and parameters: {'learning_rate': 0.06752249912497674, 'num_leaves': 109, 'max_depth': 18, 'n_estimators ': 472}. Best is trial 21 with value: 0.3845116238056235.\u001b[0m\n",
      "\u001b[32m[I 2021-10-24 20:47:51,529]\u001b[0m Trial 60 finished with value: 0.39917265643971483 and parameters: {'learning_rate': 0.08225145751402063, 'num_leaves': 120, 'max_depth': 28, 'n_estimators ': 541}. Best is trial 21 with value: 0.3845116238056235.\u001b[0m\n",
      "\u001b[32m[I 2021-10-24 20:47:58,936]\u001b[0m Trial 61 finished with value: 0.4002621355628826 and parameters: {'learning_rate': 0.021585544841463272, 'num_leaves': 126, 'max_depth': 14, 'n_estimators ': 430}. Best is trial 21 with value: 0.3845116238056235.\u001b[0m\n",
      "\u001b[32m[I 2021-10-24 20:48:04,523]\u001b[0m Trial 62 finished with value: 0.3967884304278011 and parameters: {'learning_rate': 0.03624821631414842, 'num_leaves': 127, 'max_depth': 16, 'n_estimators ': 325}. Best is trial 21 with value: 0.3845116238056235.\u001b[0m\n",
      "\u001b[32m[I 2021-10-24 20:48:10,152]\u001b[0m Trial 63 finished with value: 0.40082124656357054 and parameters: {'learning_rate': 0.2419313773729742, 'num_leaves': 115, 'max_depth': 15, 'n_estimators ': 302}. Best is trial 21 with value: 0.3845116238056235.\u001b[0m\n",
      "\u001b[32m[I 2021-10-24 20:48:20,263]\u001b[0m Trial 64 finished with value: 0.39752175759092284 and parameters: {'learning_rate': 0.04201439712348501, 'num_leaves': 119, 'max_depth': 17, 'n_estimators ': 496}. Best is trial 21 with value: 0.3845116238056235.\u001b[0m\n",
      "\u001b[32m[I 2021-10-24 20:48:29,349]\u001b[0m Trial 65 finished with value: 0.41102227876209313 and parameters: {'learning_rate': 0.005891638055635001, 'num_leaves': 124, 'max_depth': 12, 'n_estimators ': 409}. Best is trial 21 with value: 0.3845116238056235.\u001b[0m\n",
      "\u001b[32m[I 2021-10-24 20:48:44,690]\u001b[0m Trial 66 finished with value: 0.3986332271459259 and parameters: {'learning_rate': 0.059207411664445514, 'num_leaves': 104, 'max_depth': 19, 'n_estimators ': 769}. Best is trial 21 with value: 0.3845116238056235.\u001b[0m\n",
      "\u001b[32m[I 2021-10-24 20:48:54,069]\u001b[0m Trial 67 finished with value: 0.40322780258240704 and parameters: {'learning_rate': 0.18562586428036307, 'num_leaves': 97, 'max_depth': 24, 'n_estimators ': 585}. Best is trial 21 with value: 0.3845116238056235.\u001b[0m\n",
      "\u001b[32m[I 2021-10-24 20:49:02,105]\u001b[0m Trial 68 finished with value: 0.39803689645405377 and parameters: {'learning_rate': 0.2627092227031828, 'num_leaves': 117, 'max_depth': 13, 'n_estimators ': 461}. Best is trial 21 with value: 0.3845116238056235.\u001b[0m\n",
      "\u001b[32m[I 2021-10-24 20:49:11,153]\u001b[0m Trial 69 finished with value: 0.4097256949826171 and parameters: {'learning_rate': 0.1625852942875037, 'num_leaves': 55, 'max_depth': 22, 'n_estimators ': 715}. Best is trial 21 with value: 0.3845116238056235.\u001b[0m\n",
      "\u001b[32m[I 2021-10-24 20:49:19,069]\u001b[0m Trial 70 finished with value: 0.4036057142527559 and parameters: {'learning_rate': 0.2862540262634839, 'num_leaves': 78, 'max_depth': 16, 'n_estimators ': 531}. Best is trial 21 with value: 0.3845116238056235.\u001b[0m\n",
      "\u001b[32m[I 2021-10-24 20:49:24,610]\u001b[0m Trial 71 finished with value: 0.3981024737584338 and parameters: {'learning_rate': 0.033072497815284936, 'num_leaves': 127, 'max_depth': 16, 'n_estimators ': 310}. Best is trial 21 with value: 0.3845116238056235.\u001b[0m\n",
      "\u001b[32m[I 2021-10-24 20:49:28,040]\u001b[0m Trial 72 finished with value: 0.40757195580607747 and parameters: {'learning_rate': 0.015995158974017702, 'num_leaves': 121, 'max_depth': 15, 'n_estimators ': 196}. Best is trial 21 with value: 0.3845116238056235.\u001b[0m\n",
      "\u001b[32m[I 2021-10-24 20:49:33,499]\u001b[0m Trial 73 finished with value: 0.39944156998521485 and parameters: {'learning_rate': 0.03769215539104928, 'num_leaves': 113, 'max_depth': 17, 'n_estimators ': 326}. Best is trial 21 with value: 0.3845116238056235.\u001b[0m\n",
      "\u001b[32m[I 2021-10-24 20:49:38,450]\u001b[0m Trial 74 finished with value: 0.39894121104548463 and parameters: {'learning_rate': 0.04793429812048851, 'num_leaves': 127, 'max_depth': 26, 'n_estimators ': 267}. Best is trial 21 with value: 0.3845116238056235.\u001b[0m\n",
      "\u001b[32m[I 2021-10-24 20:49:44,998]\u001b[0m Trial 75 finished with value: 0.399599652612463 and parameters: {'learning_rate': 0.21626968718392192, 'num_leaves': 117, 'max_depth': 19, 'n_estimators ': 399}. Best is trial 21 with value: 0.3845116238056235.\u001b[0m\n",
      "\u001b[32m[I 2021-10-24 20:49:47,385]\u001b[0m Trial 76 finished with value: 0.40796736298615893 and parameters: {'learning_rate': 0.20271348457277702, 'num_leaves': 68, 'max_depth': 14, 'n_estimators ': 137}. Best is trial 21 with value: 0.3845116238056235.\u001b[0m\n",
      "\u001b[32m[I 2021-10-24 20:49:57,374]\u001b[0m Trial 77 finished with value: 0.4024612524428047 and parameters: {'learning_rate': 0.23840373708659623, 'num_leaves': 111, 'max_depth': 12, 'n_estimators ': 626}. Best is trial 21 with value: 0.3845116238056235.\u001b[0m\n",
      "\u001b[32m[I 2021-10-24 20:50:05,154]\u001b[0m Trial 78 finished with value: 0.4007832583860154 and parameters: {'learning_rate': 0.019004336086587692, 'num_leaves': 124, 'max_depth': 20, 'n_estimators ': 447}. Best is trial 21 with value: 0.3845116238056235.\u001b[0m\n",
      "\u001b[32m[I 2021-10-24 20:50:11,070]\u001b[0m Trial 79 finished with value: 0.3988024561100553 and parameters: {'learning_rate': 0.14553641839509862, 'num_leaves': 107, 'max_depth': 29, 'n_estimators ': 376}. Best is trial 21 with value: 0.3845116238056235.\u001b[0m\n",
      "\u001b[32m[I 2021-10-24 20:50:18,613]\u001b[0m Trial 80 finished with value: 0.41264806110305585 and parameters: {'learning_rate': 0.13111975335126141, 'num_leaves': 39, 'max_depth': 15, 'n_estimators ': 679}. Best is trial 21 with value: 0.3845116238056235.\u001b[0m\n",
      "\u001b[32m[I 2021-10-24 20:50:25,806]\u001b[0m Trial 81 finished with value: 0.39300210544909076 and parameters: {'learning_rate': 0.09865300382817524, 'num_leaves': 121, 'max_depth': 15, 'n_estimators ': 370}. Best is trial 21 with value: 0.3845116238056235.\u001b[0m\n",
      "\u001b[32m[I 2021-10-24 20:50:33,007]\u001b[0m Trial 82 finished with value: 0.39113044691183513 and parameters: {'learning_rate': 0.09285103295553392, 'num_leaves': 120, 'max_depth': 18, 'n_estimators ': 367}. Best is trial 21 with value: 0.3845116238056235.\u001b[0m\n",
      "\u001b[32m[I 2021-10-24 20:50:42,724]\u001b[0m Trial 83 finished with value: 0.39425276912192053 and parameters: {'learning_rate': 0.09401582468116294, 'num_leaves': 119, 'max_depth': 18, 'n_estimators ': 512}. Best is trial 21 with value: 0.3845116238056235.\u001b[0m\n",
      "\u001b[32m[I 2021-10-24 20:50:49,750]\u001b[0m Trial 84 finished with value: 0.39384940663599477 and parameters: {'learning_rate': 0.09788134081634281, 'num_leaves': 119, 'max_depth': 23, 'n_estimators ': 366}. Best is trial 21 with value: 0.3845116238056235.\u001b[0m\n",
      "\u001b[32m[I 2021-10-24 20:50:57,808]\u001b[0m Trial 85 finished with value: 0.39585538794171093 and parameters: {'learning_rate': 0.09136602380934103, 'num_leaves': 119, 'max_depth': 25, 'n_estimators ': 372}. Best is trial 21 with value: 0.3845116238056235.\u001b[0m\n",
      "\u001b[32m[I 2021-10-24 20:51:06,613]\u001b[0m Trial 86 finished with value: 0.3974535438824298 and parameters: {'learning_rate': 0.10149952530016225, 'num_leaves': 115, 'max_depth': 23, 'n_estimators ': 507}. Best is trial 21 with value: 0.3845116238056235.\u001b[0m\n",
      "\u001b[32m[I 2021-10-24 20:51:14,693]\u001b[0m Trial 87 finished with value: 0.39349236957611766 and parameters: {'learning_rate': 0.07748837035663121, 'num_leaves': 123, 'max_depth': 24, 'n_estimators ': 485}. Best is trial 21 with value: 0.3845116238056235.\u001b[0m\n",
      "\u001b[32m[I 2021-10-24 20:51:20,447]\u001b[0m Trial 88 finished with value: 0.3962854163383696 and parameters: {'learning_rate': 0.07702669754509944, 'num_leaves': 122, 'max_depth': 22, 'n_estimators ': 289}. Best is trial 21 with value: 0.3845116238056235.\u001b[0m\n",
      "\u001b[32m[I 2021-10-24 20:51:26,597]\u001b[0m Trial 89 finished with value: 0.3963528528478085 and parameters: {'learning_rate': 0.062017860670944815, 'num_leaves': 124, 'max_depth': 24, 'n_estimators ': 354}. Best is trial 21 with value: 0.3845116238056235.\u001b[0m\n",
      "\u001b[32m[I 2021-10-24 20:51:33,465]\u001b[0m Trial 90 finished with value: 0.39873046873084206 and parameters: {'learning_rate': 0.09291964729897206, 'num_leaves': 120, 'max_depth': 27, 'n_estimators ': 410}. Best is trial 21 with value: 0.3845116238056235.\u001b[0m\n",
      "\u001b[32m[I 2021-10-24 20:51:41,038]\u001b[0m Trial 91 finished with value: 0.39889054189271667 and parameters: {'learning_rate': 0.11051984163402767, 'num_leaves': 116, 'max_depth': 24, 'n_estimators ': 484}. Best is trial 21 with value: 0.3845116238056235.\u001b[0m\n",
      "\u001b[32m[I 2021-10-24 20:51:48,034]\u001b[0m Trial 92 finished with value: 0.39787427604123365 and parameters: {'learning_rate': 0.08794820592473854, 'num_leaves': 110, 'max_depth': 25, 'n_estimators ': 453}. Best is trial 21 with value: 0.3845116238056235.\u001b[0m\n",
      "\u001b[32m[I 2021-10-24 20:51:56,604]\u001b[0m Trial 93 finished with value: 0.39819775907899285 and parameters: {'learning_rate': 0.07793362943994589, 'num_leaves': 106, 'max_depth': 22, 'n_estimators ': 566}. Best is trial 21 with value: 0.3845116238056235.\u001b[0m\n",
      "\u001b[32m[I 2021-10-24 20:52:03,276]\u001b[0m Trial 94 finished with value: 0.39325437284545073 and parameters: {'learning_rate': 0.10546285368016346, 'num_leaves': 119, 'max_depth': 18, 'n_estimators ': 420}. Best is trial 21 with value: 0.3845116238056235.\u001b[0m\n",
      "\u001b[32m[I 2021-10-24 20:52:10,056]\u001b[0m Trial 95 finished with value: 0.3944967533987305 and parameters: {'learning_rate': 0.11980869406444021, 'num_leaves': 119, 'max_depth': 21, 'n_estimators ': 424}. Best is trial 21 with value: 0.3845116238056235.\u001b[0m\n",
      "\u001b[32m[I 2021-10-24 20:52:15,833]\u001b[0m Trial 96 finished with value: 0.3902582864928628 and parameters: {'learning_rate': 0.12246920129647097, 'num_leaves': 119, 'max_depth': 23, 'n_estimators ': 356}. Best is trial 21 with value: 0.3845116238056235.\u001b[0m\n",
      "\u001b[32m[I 2021-10-24 20:52:22,035]\u001b[0m Trial 97 finished with value: 0.3946882129211057 and parameters: {'learning_rate': 0.09915705157941943, 'num_leaves': 124, 'max_depth': 23, 'n_estimators ': 358}. Best is trial 21 with value: 0.3845116238056235.\u001b[0m\n",
      "\u001b[32m[I 2021-10-24 20:52:26,077]\u001b[0m Trial 98 finished with value: 0.39894741377378706 and parameters: {'learning_rate': 0.12782861728045494, 'num_leaves': 122, 'max_depth': 20, 'n_estimators ': 239}. Best is trial 21 with value: 0.3845116238056235.\u001b[0m\n",
      "\u001b[32m[I 2021-10-24 20:52:32,668]\u001b[0m Trial 99 finished with value: 0.40010959208055585 and parameters: {'learning_rate': 0.10688342323107478, 'num_leaves': 118, 'max_depth': 18, 'n_estimators ': 397}. Best is trial 21 with value: 0.3845116238056235.\u001b[0m\n"
     ]
    },
    {
     "name": "stdout",
     "output_type": "stream",
     "text": [
      "\n",
      "---------\n",
      "Study Complete\n"
     ]
    },
    {
     "data": {
      "text/plain": [
       "{'learning_rate': 0.2743431718467076,\n",
       " 'num_leaves': 119,\n",
       " 'max_depth': 24,\n",
       " 'n_estimators ': 722}"
      ]
     },
     "execution_count": 23,
     "metadata": {},
     "output_type": "execute_result"
    }
   ],
   "source": [
    "study = optuna.create_study(direction=\"minimize\")\n",
    "study.optimize(objective, n_trials=100)\n",
    "\n",
    "print(\"\\n---------\")\n",
    "print(\"Study Complete\")\n",
    "study.best_params"
   ]
  },
  {
   "cell_type": "code",
   "execution_count": 24,
   "metadata": {},
   "outputs": [
    {
     "name": "stdout",
     "output_type": "stream",
     "text": [
      "{'learning_rate': 0.2743431718467076, 'num_leaves': 119, 'max_depth': 24, 'n_estimators ': 722}\n",
      "Best Rank Score: 0.3845116238056235\n",
      "-------\n",
      "FrozenTrial(number=21, values=[0.3845116238056235], datetime_start=datetime.datetime(2021, 10, 24, 20, 41, 42, 403246), datetime_complete=datetime.datetime(2021, 10, 24, 20, 41, 54, 438243), params={'learning_rate': 0.2743431718467076, 'num_leaves': 119, 'max_depth': 24, 'n_estimators ': 722}, distributions={'learning_rate': UniformDistribution(high=0.3, low=0.005), 'num_leaves': IntUniformDistribution(high=127, low=2, step=1), 'max_depth': IntUniformDistribution(high=30, low=2, step=1), 'n_estimators ': IntUniformDistribution(high=1000, low=50, step=1)}, user_attrs={}, system_attrs={}, intermediate_values={}, trial_id=21, state=TrialState.COMPLETE, value=None)\n"
     ]
    }
   ],
   "source": [
    "print(study.best_params)\n",
    "print(\"Best Rank Score: \" + str(study.best_value))\n",
    "print(\"-------\")\n",
    "print(study.best_trial)"
   ]
  },
  {
   "cell_type": "markdown",
   "metadata": {},
   "source": [
    "## Results \n",
    "\n",
    "Full:\n",
    "* params 1: param_grid = { 'bsl_options': {'n_epochs': [5, 8, 12], 'reg_u': [3, 4, 6, 8], 'reg_i': [10, 15, 18]} }\n",
    "* Best MAE: 0.44255455726578596\n",
    "* Best MAE Params: {'bsl_options': {'n_epochs': 5, 'reg_u': 3, 'reg_i': 15}}\n",
    "\n",
    "* params 2: { 'bsl_options': {'n_epochs': [4, 5, 8, 12, 15], 'reg_u': [3, 8, 12, 16], 'reg_i': [7, 11, 16, 20]} }\n",
    "* Best MAE: 0.44246073687546666\n",
    "* Best MAE Params: {'bsl_options': {'n_epochs': 5, 'reg_u': 3, 'reg_i': 16}}\n",
    "\n",
    "\n",
    "200k\n",
    "* Best MAE: 0.43026587512679404\n",
    "* Best MAE Params: {'bsl_options': {'n_epochs': 8, 'reg_u': 4, 'reg_i': 15}}"
   ]
  },
  {
   "cell_type": "code",
   "execution_count": 25,
   "metadata": {},
   "outputs": [],
   "source": [
    "\n",
    "# print(\"Best RMSE: \" + str(grid_search.best_score['rmse']))\n",
    "# print(\"Best RMSE Params: \" + str(grid_search.best_params['rmse']))"
   ]
  }
 ],
 "metadata": {
  "interpreter": {
   "hash": "a1c06c75df55f9518a2e4db6ce3b8ca21fb7e457d427684d07afebc061061d6a"
  },
  "kernelspec": {
   "display_name": "Python 3.9.5 64-bit",
   "name": "python3"
  },
  "language_info": {
   "codemirror_mode": {
    "name": "ipython",
    "version": 3
   },
   "file_extension": ".py",
   "mimetype": "text/x-python",
   "name": "python",
   "nbconvert_exporter": "python",
   "pygments_lexer": "ipython3",
   "version": "3.9.5"
  },
  "orig_nbformat": 4
 },
 "nbformat": 4,
 "nbformat_minor": 2
}
